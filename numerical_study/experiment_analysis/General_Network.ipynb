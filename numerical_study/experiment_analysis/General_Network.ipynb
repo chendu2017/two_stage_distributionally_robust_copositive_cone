{
 "cells": [
  {
   "cell_type": "code",
   "execution_count": 1,
   "metadata": {},
   "outputs": [
    {
     "name": "stderr",
     "output_type": "stream",
     "text": [
      "\n",
      "Bad key \"text.kerning_factor\" on line 4 in\n",
      "D:\\software\\anaconda\\anaconda\\Lib\\site-packages\\matplotlib\\mpl-data\\stylelib\\_classic_test_patch.mplstyle.\n",
      "You probably need to get an updated matplotlibrc file from\n",
      "https://github.com/matplotlib/matplotlib/blob/v3.1.3/matplotlibrc.template\n",
      "or from the matplotlib source distribution\n"
     ]
    }
   ],
   "source": [
    "import pandas as pd\n",
    "import matplotlib.pyplot as plt\n",
    "import matplotlib\n",
    "import seaborn as sns\n",
    "import numpy as np\n",
    "import json\n",
    "plt.rcParams['font.sans-serif']=['SimHei'] #用来正常显示中文标签\n",
    "plt.rcParams['axes.unicode_minus']=False\n",
    "sns.set_style('whitegrid')\n",
    "sns.set(font_scale=3,font=\"simhei\")\n",
    "\n",
    "#--- 改变字体\n",
    "font = {\n",
    "        'size'   : 22}\n",
    "matplotlib.rc('font', **font)\n",
    "\n",
    "\n",
    "#--- plt设置\n",
    "SMALL_SIZE = 16\n",
    "MEDIUM_SIZE = 18\n",
    "BIGGER_SIZE = 22\n",
    "\n",
    "plt.rc('font', size=SMALL_SIZE)          # controls default text sizes\n",
    "plt.rc('axes', titlesize=SMALL_SIZE)     # fontsize of the axes title\n",
    "plt.rc('axes', labelsize=MEDIUM_SIZE)    # fontsize of the x and y labels\n",
    "plt.rc('xtick', labelsize=SMALL_SIZE)    # fontsize of the tick labels\n",
    "plt.rc('ytick', labelsize=SMALL_SIZE)    # fontsize of the tick labels\n",
    "plt.rc('legend', fontsize=SMALL_SIZE)    # legend fontsize\n",
    "plt.rc('figure', titlesize=BIGGER_SIZE)  # fontsize of the figure title\n",
    "\n",
    "from statsmodels.stats.weightstats import ztest"
   ]
  },
  {
   "cell_type": "markdown",
   "metadata": {},
   "source": [
    "# 48"
   ]
  },
  {
   "cell_type": "code",
   "execution_count": 47,
   "metadata": {},
   "outputs": [],
   "source": [
    "df = pd.read_csv(f'D:/[PAPER]NetworkDesign Distributionally Robust/numerical/balanced_system/812/e_result_sensitivity.csv')\n",
    "for suffiex in ['', '_outsample']:\n",
    "    df['total_cost'+suffiex] = df['f'] + df['h'] + df['unmet_demand'+suffiex]\n",
    "    df['obj_second_stage'+suffiex] = df['obj'] - df['f'] - df['h']\n",
    "    df['total_demand'+suffiex] =  np.fmax(df['sum_I']*df['utilization_rate'+suffiex], df['unmet_demand'+suffiex]/(1-df['fulfill_rate'+suffiex]))\n",
    "    df.loc[df['total_demand'+suffiex]==np.inf, 'total_demand'+suffiex] = df['utilization_rate'+suffiex] * df['sum_I']\n",
    "    df['unfulfill_rate'+suffiex] = 1 - df['fulfill_rate'+suffiex]\n",
    "df.loc[df['model']=='co', 'model'] = 'CO'\n",
    "df.loc[df['model']=='mv', 'model'] = 'MV'\n",
    "df.loc[df['model']=='saa', 'model'] = 'SAA'\n",
    "df_out = pd.concat(\n",
    "    [df.query('rho==0.3&kappa==1.0').groupby(by=['rho', 'cv', 'kappa', 'model'])[['total_cost', 'total_cost_outsample']].mean().unstack(),\n",
    "    df.query('cv==0.3&kappa==1.0').groupby(by=['rho', 'cv', 'kappa', 'model'])[['total_cost', 'total_cost_outsample']].mean().unstack(),\n",
    "    df.query('rho==0.3&cv==0.3').groupby(by=['rho', 'cv', 'kappa', 'model'])[['total_cost', 'total_cost_outsample']].mean().unstack()\n",
    "    ])\n",
    "df_out.to_excel('812.xlsx')"
   ]
  },
  {
   "cell_type": "code",
   "execution_count": null,
   "metadata": {},
   "outputs": [],
   "source": []
  },
  {
   "cell_type": "code",
   "execution_count": null,
   "metadata": {},
   "outputs": [],
   "source": []
  }
 ],
 "metadata": {
  "kernelspec": {
   "display_name": "Python 3",
   "language": "python",
   "name": "python3"
  },
  "language_info": {
   "codemirror_mode": {
    "name": "ipython",
    "version": 3
   },
   "file_extension": ".py",
   "mimetype": "text/x-python",
   "name": "python",
   "nbconvert_exporter": "python",
   "pygments_lexer": "ipython3",
   "version": "3.6.12"
  }
 },
 "nbformat": 4,
 "nbformat_minor": 4
}

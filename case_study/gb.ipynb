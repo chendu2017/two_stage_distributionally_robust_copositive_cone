{
 "cells": [
  {
   "cell_type": "code",
   "execution_count": 1,
   "metadata": {},
   "outputs": [
    {
     "data": {
      "text/plain": [
       "<Figure size 1440x720 with 0 Axes>"
      ]
     },
     "metadata": {},
     "output_type": "display_data"
    }
   ],
   "source": [
    "import pandas as pd\n",
    "import matplotlib.pyplot as plt\n",
    "import matplotlib\n",
    "import seaborn as sns\n",
    "import numpy as np\n",
    "#sns.set_style('darkgrid')\n",
    "sns.set(font_scale=3,font=\"simhei\")\n",
    "\n",
    "#--- 改变字体\n",
    "font = {'weight' : 'bold',\n",
    "        'size'   : 22}\n",
    "matplotlib.rc('font', **font)\n",
    "\n",
    "#--- plt设置\n",
    "SMALL_SIZE = 16\n",
    "MEDIUM_SIZE = 18\n",
    "BIGGER_SIZE = 22\n",
    "plt.figure(figsize=(20,10))\n",
    "plt.rc('font', size=SMALL_SIZE)          # controls default text sizes\n",
    "plt.rc('axes', titlesize=SMALL_SIZE)     # fontsize of the axes title\n",
    "plt.rc('axes', labelsize=SMALL_SIZE)    # fontsize of the x and y labels\n",
    "plt.rc('xtick', labelsize=SMALL_SIZE)    # fontsize of the tick labels\n",
    "plt.rc('ytick', labelsize=SMALL_SIZE)    # fontsize of the tick labels\n",
    "plt.rc('legend', fontsize=SMALL_SIZE)    # legend fontsize\n",
    "plt.rc('figure', titlesize=SMALL_SIZE)  # fontsize of the figure title"
   ]
  },
  {
   "cell_type": "markdown",
   "metadata": {},
   "source": [
    "# load datasets"
   ]
  },
  {
   "cell_type": "code",
   "execution_count": 2,
   "metadata": {},
   "outputs": [
    {
     "name": "stdout",
     "output_type": "stream",
     "text": [
      "<class 'pandas.core.frame.DataFrame'>\n",
      "Int64Index: 36 entries, 0 to 41\n",
      "Data columns (total 13 columns):\n",
      " #   Column   Non-Null Count  Dtype  \n",
      "---  ------   --------------  -----  \n",
      " 0   门店编码     36 non-null     object \n",
      " 1   门店名称     36 non-null     object \n",
      " 2   门店地理位置   36 non-null     object \n",
      " 3   经度       36 non-null     object \n",
      " 4   纬度       36 non-null     object \n",
      " 5   门店等级     36 non-null     object \n",
      " 6   前置仓体系门店  36 non-null     int64  \n",
      " 7   实际上线时间   36 non-null     object \n",
      " 8   时效       36 non-null     object \n",
      " 9   备注       0 non-null      float64\n",
      " 10  对照门店名称   36 non-null     object \n",
      " 11  环线       36 non-null     object \n",
      " 12  商圈       36 non-null     object \n",
      "dtypes: float64(1), int64(1), object(11)\n",
      "memory usage: 3.9+ KB\n",
      "None\n"
     ]
    },
    {
     "data": {
      "text/html": [
       "<div>\n",
       "<style scoped>\n",
       "    .dataframe tbody tr th:only-of-type {\n",
       "        vertical-align: middle;\n",
       "    }\n",
       "\n",
       "    .dataframe tbody tr th {\n",
       "        vertical-align: top;\n",
       "    }\n",
       "\n",
       "    .dataframe thead th {\n",
       "        text-align: right;\n",
       "    }\n",
       "</style>\n",
       "<table border=\"1\" class=\"dataframe\">\n",
       "  <thead>\n",
       "    <tr style=\"text-align: right;\">\n",
       "      <th></th>\n",
       "      <th>门店编码</th>\n",
       "      <th>门店名称</th>\n",
       "      <th>门店地理位置</th>\n",
       "      <th>经度</th>\n",
       "      <th>纬度</th>\n",
       "      <th>门店等级</th>\n",
       "      <th>前置仓体系门店</th>\n",
       "      <th>实际上线时间</th>\n",
       "      <th>时效</th>\n",
       "      <th>备注</th>\n",
       "      <th>对照门店名称</th>\n",
       "      <th>环线</th>\n",
       "      <th>商圈</th>\n",
       "    </tr>\n",
       "  </thead>\n",
       "  <tbody>\n",
       "    <tr>\n",
       "      <th>0</th>\n",
       "      <td>SH60</td>\n",
       "      <td>上海浦东96广场宝大祥NK店</td>\n",
       "      <td>浦东东方路796号B1楼</td>\n",
       "      <td>东经E121°31′27.89″</td>\n",
       "      <td>北纬N31°13′37.79″</td>\n",
       "      <td>A</td>\n",
       "      <td>1</td>\n",
       "      <td>2018-04-20</td>\n",
       "      <td>4小时达</td>\n",
       "      <td>NaN</td>\n",
       "      <td>上海宝大祥青少年儿童购物中心浦东96广场</td>\n",
       "      <td>内环</td>\n",
       "      <td>世纪大道</td>\n",
       "    </tr>\n",
       "    <tr>\n",
       "      <th>1</th>\n",
       "      <td>SH15</td>\n",
       "      <td>上海黄浦南京东路宝大祥NK店</td>\n",
       "      <td>黄浦区南京东路685号宝大祥青少年儿童购物中心1楼</td>\n",
       "      <td>东经E121°28′38.81″</td>\n",
       "      <td>北纬N31°14′7.78″</td>\n",
       "      <td>A+</td>\n",
       "      <td>1</td>\n",
       "      <td>2018-03-20</td>\n",
       "      <td>1小时达</td>\n",
       "      <td>NaN</td>\n",
       "      <td>宝大祥青少年儿童购物(集团)股份有限公司</td>\n",
       "      <td>内环</td>\n",
       "      <td>南京东路</td>\n",
       "    </tr>\n",
       "    <tr>\n",
       "      <th>2</th>\n",
       "      <td>SH55</td>\n",
       "      <td>上海黄浦市百一店NK店</td>\n",
       "      <td>上海市黄浦区南京东路830号4楼阿迪达斯童装</td>\n",
       "      <td>东经E121°28′30.00″</td>\n",
       "      <td>北纬N31°14′11.86″</td>\n",
       "      <td>B+</td>\n",
       "      <td>1</td>\n",
       "      <td>2018-04-13</td>\n",
       "      <td>4小时达</td>\n",
       "      <td>NaN</td>\n",
       "      <td>上海市第一百货商店股份有限公司</td>\n",
       "      <td>内环</td>\n",
       "      <td>南京东路</td>\n",
       "    </tr>\n",
       "    <tr>\n",
       "      <th>3</th>\n",
       "      <td>SH25</td>\n",
       "      <td>上海黄浦置地广场NK店</td>\n",
       "      <td>黄浦区南京东路409-459号8楼</td>\n",
       "      <td>东经E121°28′55.69″</td>\n",
       "      <td>北纬N31°14′12.05″</td>\n",
       "      <td>B</td>\n",
       "      <td>1</td>\n",
       "      <td>2018-04-13</td>\n",
       "      <td>1小时达</td>\n",
       "      <td>NaN</td>\n",
       "      <td>上海置地广场商厦有限公司</td>\n",
       "      <td>内环</td>\n",
       "      <td>南京东路</td>\n",
       "    </tr>\n",
       "    <tr>\n",
       "      <th>4</th>\n",
       "      <td>SH08</td>\n",
       "      <td>上海黄浦新世界NK店</td>\n",
       "      <td>黄浦区南京西路2-88号8楼</td>\n",
       "      <td>东经E118°53′28.71″</td>\n",
       "      <td>北纬N32°03′48.79″</td>\n",
       "      <td>A+</td>\n",
       "      <td>1</td>\n",
       "      <td>2018-04-13</td>\n",
       "      <td>1小时达</td>\n",
       "      <td>NaN</td>\n",
       "      <td>新世界股份有限公司</td>\n",
       "      <td>内环</td>\n",
       "      <td>南京东路</td>\n",
       "    </tr>\n",
       "  </tbody>\n",
       "</table>\n",
       "</div>"
      ],
      "text/plain": [
       "   门店编码            门店名称                     门店地理位置                经度  \\\n",
       "0  SH60  上海浦东96广场宝大祥NK店               浦东东方路796号B1楼  东经E121°31′27.89″   \n",
       "1  SH15  上海黄浦南京东路宝大祥NK店  黄浦区南京东路685号宝大祥青少年儿童购物中心1楼  东经E121°28′38.81″   \n",
       "2  SH55     上海黄浦市百一店NK店     上海市黄浦区南京东路830号4楼阿迪达斯童装  东经E121°28′30.00″   \n",
       "3  SH25     上海黄浦置地广场NK店          黄浦区南京东路409-459号8楼  东经E121°28′55.69″   \n",
       "4  SH08      上海黄浦新世界NK店             黄浦区南京西路2-88号8楼  东经E118°53′28.71″   \n",
       "\n",
       "                纬度 门店等级  前置仓体系门店      实际上线时间    时效  备注                对照门店名称  \\\n",
       "0  北纬N31°13′37.79″    A        1  2018-04-20  4小时达 NaN  上海宝大祥青少年儿童购物中心浦东96广场   \n",
       "1   北纬N31°14′7.78″   A+        1  2018-03-20  1小时达 NaN  宝大祥青少年儿童购物(集团)股份有限公司   \n",
       "2  北纬N31°14′11.86″   B+        1  2018-04-13  4小时达 NaN       上海市第一百货商店股份有限公司   \n",
       "3  北纬N31°14′12.05″    B        1  2018-04-13  1小时达 NaN          上海置地广场商厦有限公司   \n",
       "4  北纬N32°03′48.79″   A+        1  2018-04-13  1小时达 NaN             新世界股份有限公司   \n",
       "\n",
       "   环线    商圈  \n",
       "0  内环  世纪大道  \n",
       "1  内环  南京东路  \n",
       "2  内环  南京东路  \n",
       "3  内环  南京东路  \n",
       "4  内环  南京东路  "
      ]
     },
     "execution_count": 2,
     "metadata": {},
     "output_type": "execute_result"
    }
   ],
   "source": [
    "stores = pd.read_excel('./input/raw_data/stores.xlsx')\n",
    "# 去掉金山\n",
    "stores = stores[~stores['商圈'].isin(['金山宝大祥','奉贤新城', '刘行', '普陀中环', '紫藤路', '陕西南路'])]\n",
    "print(stores.info())\n",
    "stores.head()"
   ]
  },
  {
   "cell_type": "code",
   "execution_count": 3,
   "metadata": {
    "scrolled": true
   },
   "outputs": [],
   "source": [
    "sales = pd.read_excel('./input/raw_data/sales.xlsx', parse_dates=['销售时间'])"
   ]
  },
  {
   "cell_type": "code",
   "execution_count": 4,
   "metadata": {},
   "outputs": [
    {
     "data": {
      "text/html": [
       "<div>\n",
       "<style scoped>\n",
       "    .dataframe tbody tr th:only-of-type {\n",
       "        vertical-align: middle;\n",
       "    }\n",
       "\n",
       "    .dataframe tbody tr th {\n",
       "        vertical-align: top;\n",
       "    }\n",
       "\n",
       "    .dataframe thead th {\n",
       "        text-align: right;\n",
       "    }\n",
       "</style>\n",
       "<table border=\"1\" class=\"dataframe\">\n",
       "  <thead>\n",
       "    <tr style=\"text-align: right;\">\n",
       "      <th></th>\n",
       "      <th>销售单号</th>\n",
       "      <th>门店编码</th>\n",
       "      <th>销售时间</th>\n",
       "      <th>商品编码</th>\n",
       "      <th>数量</th>\n",
       "      <th>实际售价</th>\n",
       "    </tr>\n",
       "  </thead>\n",
       "  <tbody>\n",
       "    <tr>\n",
       "      <th>0</th>\n",
       "      <td>NaN</td>\n",
       "      <td>TMSH162</td>\n",
       "      <td>2018-09-09</td>\n",
       "      <td>814443N140406Y</td>\n",
       "      <td>1</td>\n",
       "      <td>299.0</td>\n",
       "    </tr>\n",
       "    <tr>\n",
       "      <th>1</th>\n",
       "      <td>NaN</td>\n",
       "      <td>TMSH01</td>\n",
       "      <td>2018-04-30</td>\n",
       "      <td>652966L141405C</td>\n",
       "      <td>2</td>\n",
       "      <td>394.8</td>\n",
       "    </tr>\n",
       "    <tr>\n",
       "      <th>2</th>\n",
       "      <td>NaN</td>\n",
       "      <td>TMSH162</td>\n",
       "      <td>2018-08-30</td>\n",
       "      <td>599729N161204Y</td>\n",
       "      <td>1</td>\n",
       "      <td>219.0</td>\n",
       "    </tr>\n",
       "    <tr>\n",
       "      <th>3</th>\n",
       "      <td>NaN</td>\n",
       "      <td>TMSH162</td>\n",
       "      <td>2018-08-31</td>\n",
       "      <td>859579N140103Y</td>\n",
       "      <td>1</td>\n",
       "      <td>249.0</td>\n",
       "    </tr>\n",
       "    <tr>\n",
       "      <th>4</th>\n",
       "      <td>NaN</td>\n",
       "      <td>TMSH162</td>\n",
       "      <td>2018-08-31</td>\n",
       "      <td>870022N170006Y</td>\n",
       "      <td>1</td>\n",
       "      <td>199.0</td>\n",
       "    </tr>\n",
       "  </tbody>\n",
       "</table>\n",
       "</div>"
      ],
      "text/plain": [
       "   销售单号     门店编码       销售时间            商品编码  数量   实际售价\n",
       "0   NaN  TMSH162 2018-09-09  814443N140406Y   1  299.0\n",
       "1   NaN   TMSH01 2018-04-30  652966L141405C   2  394.8\n",
       "2   NaN  TMSH162 2018-08-30  599729N161204Y   1  219.0\n",
       "3   NaN  TMSH162 2018-08-31  859579N140103Y   1  249.0\n",
       "4   NaN  TMSH162 2018-08-31  870022N170006Y   1  199.0"
      ]
     },
     "execution_count": 4,
     "metadata": {},
     "output_type": "execute_result"
    }
   ],
   "source": [
    "sales.loc[sales['数量']<=0, '数量'] = 0\n",
    "sales.head()"
   ]
  },
  {
   "cell_type": "code",
   "execution_count": 5,
   "metadata": {},
   "outputs": [
    {
     "data": {
      "text/html": [
       "<div>\n",
       "<style scoped>\n",
       "    .dataframe tbody tr th:only-of-type {\n",
       "        vertical-align: middle;\n",
       "    }\n",
       "\n",
       "    .dataframe tbody tr th {\n",
       "        vertical-align: top;\n",
       "    }\n",
       "\n",
       "    .dataframe thead th {\n",
       "        text-align: right;\n",
       "    }\n",
       "</style>\n",
       "<table border=\"1\" class=\"dataframe\">\n",
       "  <thead>\n",
       "    <tr style=\"text-align: right;\">\n",
       "      <th></th>\n",
       "      <th>销售单号</th>\n",
       "      <th>门店编码</th>\n",
       "      <th>销售时间</th>\n",
       "      <th>商品编码</th>\n",
       "      <th>数量</th>\n",
       "      <th>实际售价</th>\n",
       "    </tr>\n",
       "  </thead>\n",
       "  <tbody>\n",
       "    <tr>\n",
       "      <th>0</th>\n",
       "      <td>NaN</td>\n",
       "      <td>TMSH162</td>\n",
       "      <td>2018-09-09</td>\n",
       "      <td>814443</td>\n",
       "      <td>1</td>\n",
       "      <td>299.0</td>\n",
       "    </tr>\n",
       "    <tr>\n",
       "      <th>1</th>\n",
       "      <td>NaN</td>\n",
       "      <td>TMSH01</td>\n",
       "      <td>2018-04-30</td>\n",
       "      <td>652966</td>\n",
       "      <td>2</td>\n",
       "      <td>394.8</td>\n",
       "    </tr>\n",
       "    <tr>\n",
       "      <th>2</th>\n",
       "      <td>NaN</td>\n",
       "      <td>TMSH162</td>\n",
       "      <td>2018-08-30</td>\n",
       "      <td>599729</td>\n",
       "      <td>1</td>\n",
       "      <td>219.0</td>\n",
       "    </tr>\n",
       "    <tr>\n",
       "      <th>3</th>\n",
       "      <td>NaN</td>\n",
       "      <td>TMSH162</td>\n",
       "      <td>2018-08-31</td>\n",
       "      <td>859579</td>\n",
       "      <td>1</td>\n",
       "      <td>249.0</td>\n",
       "    </tr>\n",
       "    <tr>\n",
       "      <th>4</th>\n",
       "      <td>NaN</td>\n",
       "      <td>TMSH162</td>\n",
       "      <td>2018-08-31</td>\n",
       "      <td>870022</td>\n",
       "      <td>1</td>\n",
       "      <td>199.0</td>\n",
       "    </tr>\n",
       "  </tbody>\n",
       "</table>\n",
       "</div>"
      ],
      "text/plain": [
       "   销售单号     门店编码       销售时间    商品编码  数量   实际售价\n",
       "0   NaN  TMSH162 2018-09-09  814443   1  299.0\n",
       "1   NaN   TMSH01 2018-04-30  652966   2  394.8\n",
       "2   NaN  TMSH162 2018-08-30  599729   1  219.0\n",
       "3   NaN  TMSH162 2018-08-31  859579   1  249.0\n",
       "4   NaN  TMSH162 2018-08-31  870022   1  199.0"
      ]
     },
     "execution_count": 5,
     "metadata": {},
     "output_type": "execute_result"
    }
   ],
   "source": [
    "sales['商品编码'] = [s[:6] for s in sales['商品编码']]\n",
    "sales.head()"
   ]
  },
  {
   "cell_type": "code",
   "execution_count": 6,
   "metadata": {
    "scrolled": true
   },
   "outputs": [
    {
     "data": {
      "text/html": [
       "<div>\n",
       "<style scoped>\n",
       "    .dataframe tbody tr th:only-of-type {\n",
       "        vertical-align: middle;\n",
       "    }\n",
       "\n",
       "    .dataframe tbody tr th {\n",
       "        vertical-align: top;\n",
       "    }\n",
       "\n",
       "    .dataframe thead th {\n",
       "        text-align: right;\n",
       "    }\n",
       "</style>\n",
       "<table border=\"1\" class=\"dataframe\">\n",
       "  <thead>\n",
       "    <tr style=\"text-align: right;\">\n",
       "      <th></th>\n",
       "      <th>销售时间</th>\n",
       "      <th>商品编码</th>\n",
       "      <th>数量</th>\n",
       "      <th>商圈</th>\n",
       "    </tr>\n",
       "  </thead>\n",
       "  <tbody>\n",
       "    <tr>\n",
       "      <th>14</th>\n",
       "      <td>2018-10-13</td>\n",
       "      <td>881926</td>\n",
       "      <td>1</td>\n",
       "      <td>莘庄</td>\n",
       "    </tr>\n",
       "    <tr>\n",
       "      <th>15</th>\n",
       "      <td>2018-10-24</td>\n",
       "      <td>AQ9976</td>\n",
       "      <td>1</td>\n",
       "      <td>莘庄</td>\n",
       "    </tr>\n",
       "    <tr>\n",
       "      <th>16</th>\n",
       "      <td>2018-09-01</td>\n",
       "      <td>AA7216</td>\n",
       "      <td>1</td>\n",
       "      <td>莘庄</td>\n",
       "    </tr>\n",
       "    <tr>\n",
       "      <th>17</th>\n",
       "      <td>2018-09-16</td>\n",
       "      <td>343738</td>\n",
       "      <td>1</td>\n",
       "      <td>莘庄</td>\n",
       "    </tr>\n",
       "    <tr>\n",
       "      <th>18</th>\n",
       "      <td>2018-02-12</td>\n",
       "      <td>917859</td>\n",
       "      <td>1</td>\n",
       "      <td>莘庄</td>\n",
       "    </tr>\n",
       "  </tbody>\n",
       "</table>\n",
       "</div>"
      ],
      "text/plain": [
       "         销售时间    商品编码  数量  商圈\n",
       "14 2018-10-13  881926   1  莘庄\n",
       "15 2018-10-24  AQ9976   1  莘庄\n",
       "16 2018-09-01  AA7216   1  莘庄\n",
       "17 2018-09-16  343738   1  莘庄\n",
       "18 2018-02-12  917859   1  莘庄"
      ]
     },
     "execution_count": 6,
     "metadata": {},
     "output_type": "execute_result"
    }
   ],
   "source": [
    "store_sales = sales[['门店编码','销售时间','商品编码','数量']].merge(stores[['门店编码','商圈']], how='left').dropna()\n",
    "store_sales = store_sales[['销售时间','商品编码','数量','商圈']]\n",
    "store_sales.head()"
   ]
  },
  {
   "cell_type": "code",
   "execution_count": 7,
   "metadata": {},
   "outputs": [
    {
     "name": "stdout",
     "output_type": "stream",
     "text": [
      "销售时间 _unique: 761\n",
      "商品编码 _unique: 1506\n",
      "数量 _unique: 136\n",
      "商圈 _unique: 23\n"
     ]
    }
   ],
   "source": [
    "shangquan = store_sales['商圈'].unique()\n",
    "for col in store_sales.columns:\n",
    "    print(col, '_unique:', len(store_sales[col].unique()))"
   ]
  },
  {
   "cell_type": "code",
   "execution_count": 8,
   "metadata": {},
   "outputs": [
    {
     "data": {
      "text/html": [
       "<div>\n",
       "<style scoped>\n",
       "    .dataframe tbody tr th:only-of-type {\n",
       "        vertical-align: middle;\n",
       "    }\n",
       "\n",
       "    .dataframe tbody tr th {\n",
       "        vertical-align: top;\n",
       "    }\n",
       "\n",
       "    .dataframe thead th {\n",
       "        text-align: right;\n",
       "    }\n",
       "</style>\n",
       "<table border=\"1\" class=\"dataframe\">\n",
       "  <thead>\n",
       "    <tr style=\"text-align: right;\">\n",
       "      <th></th>\n",
       "      <th>商圈</th>\n",
       "      <th>商品编码</th>\n",
       "      <th>销售时间</th>\n",
       "      <th>数量</th>\n",
       "    </tr>\n",
       "  </thead>\n",
       "  <tbody>\n",
       "    <tr>\n",
       "      <th>0</th>\n",
       "      <td>七宝</td>\n",
       "      <td>314193</td>\n",
       "      <td>2017-12-09</td>\n",
       "      <td>1</td>\n",
       "    </tr>\n",
       "    <tr>\n",
       "      <th>1</th>\n",
       "      <td>七宝</td>\n",
       "      <td>314193</td>\n",
       "      <td>2017-12-13</td>\n",
       "      <td>1</td>\n",
       "    </tr>\n",
       "    <tr>\n",
       "      <th>2</th>\n",
       "      <td>七宝</td>\n",
       "      <td>314193</td>\n",
       "      <td>2017-12-20</td>\n",
       "      <td>1</td>\n",
       "    </tr>\n",
       "    <tr>\n",
       "      <th>3</th>\n",
       "      <td>七宝</td>\n",
       "      <td>314193</td>\n",
       "      <td>2017-12-28</td>\n",
       "      <td>1</td>\n",
       "    </tr>\n",
       "    <tr>\n",
       "      <th>4</th>\n",
       "      <td>七宝</td>\n",
       "      <td>314193</td>\n",
       "      <td>2017-12-29</td>\n",
       "      <td>1</td>\n",
       "    </tr>\n",
       "  </tbody>\n",
       "</table>\n",
       "</div>"
      ],
      "text/plain": [
       "   商圈    商品编码       销售时间  数量\n",
       "0  七宝  314193 2017-12-09   1\n",
       "1  七宝  314193 2017-12-13   1\n",
       "2  七宝  314193 2017-12-20   1\n",
       "3  七宝  314193 2017-12-28   1\n",
       "4  七宝  314193 2017-12-29   1"
      ]
     },
     "execution_count": 8,
     "metadata": {},
     "output_type": "execute_result"
    }
   ],
   "source": [
    "mall_sales = store_sales.groupby(['商圈','商品编码','销售时间']).sum().reset_index()\n",
    "mall_sales.head()"
   ]
  },
  {
   "cell_type": "code",
   "execution_count": 9,
   "metadata": {
    "scrolled": true
   },
   "outputs": [],
   "source": [
    "mall_sku_sales = {key: mall_sales.loc[value] for key, value in mall_sales.groupby(['商圈','商品编码',]).groups.items()}\n",
    "mall_sales = {}\n",
    "for key, value in mall_sku_sales.items():\n",
    "    mall_sales[key] = value.set_index('销售时间').resample('w').sum().fillna(0).reset_index()\n"
   ]
  },
  {
   "cell_type": "code",
   "execution_count": 176,
   "metadata": {},
   "outputs": [],
   "source": [
    "mall_sale = []\n",
    "for (mall, skuid), value in mall_sales.items():\n",
    "    value['商圈'] = mall\n",
    "    value['商品编码'] = skuid\n",
    "    mall_sale.append(value)\n",
    "mall_sale = pd.concat(mall_sale, ignore_index=True)"
   ]
  },
  {
   "cell_type": "code",
   "execution_count": 265,
   "metadata": {},
   "outputs": [],
   "source": [
    "mall_sale.head()\n",
    "# mall_sale = mall_sale[~mall_sale['商品编码'].isin(['343738', '343938'])]\n",
    "date_start_2017, date_end_2017 = '20170717', '20171112'\n",
    "date_start_2018, date_end_2018 = '20180716', '20181209'"
   ]
  },
  {
   "cell_type": "code",
   "execution_count": 266,
   "metadata": {},
   "outputs": [
    {
     "name": "stdout",
     "output_type": "stream",
     "text": [
      "['AA7217']\n"
     ]
    },
    {
     "data": {
      "text/html": [
       "<div>\n",
       "<style scoped>\n",
       "    .dataframe tbody tr th:only-of-type {\n",
       "        vertical-align: middle;\n",
       "    }\n",
       "\n",
       "    .dataframe tbody tr th {\n",
       "        vertical-align: top;\n",
       "    }\n",
       "\n",
       "    .dataframe thead th {\n",
       "        text-align: right;\n",
       "    }\n",
       "</style>\n",
       "<table border=\"1\" class=\"dataframe\">\n",
       "  <thead>\n",
       "    <tr style=\"text-align: right;\">\n",
       "      <th></th>\n",
       "      <th>商品编码</th>\n",
       "      <th>数量</th>\n",
       "    </tr>\n",
       "  </thead>\n",
       "  <tbody>\n",
       "    <tr>\n",
       "      <th>2</th>\n",
       "      <td>343738</td>\n",
       "      <td>6688</td>\n",
       "    </tr>\n",
       "    <tr>\n",
       "      <th>3</th>\n",
       "      <td>343938</td>\n",
       "      <td>5905</td>\n",
       "    </tr>\n",
       "    <tr>\n",
       "      <th>463</th>\n",
       "      <td>917859</td>\n",
       "      <td>2555</td>\n",
       "    </tr>\n",
       "    <tr>\n",
       "      <th>417</th>\n",
       "      <td>881927</td>\n",
       "      <td>2199</td>\n",
       "    </tr>\n",
       "    <tr>\n",
       "      <th>499</th>\n",
       "      <td>AA7217</td>\n",
       "      <td>1786</td>\n",
       "    </tr>\n",
       "    <tr>\n",
       "      <th>498</th>\n",
       "      <td>AA7216</td>\n",
       "      <td>1694</td>\n",
       "    </tr>\n",
       "    <tr>\n",
       "      <th>464</th>\n",
       "      <td>917860</td>\n",
       "      <td>1686</td>\n",
       "    </tr>\n",
       "    <tr>\n",
       "      <th>262</th>\n",
       "      <td>834365</td>\n",
       "      <td>1508</td>\n",
       "    </tr>\n",
       "    <tr>\n",
       "      <th>414</th>\n",
       "      <td>881924</td>\n",
       "      <td>1252</td>\n",
       "    </tr>\n",
       "    <tr>\n",
       "      <th>263</th>\n",
       "      <td>834366</td>\n",
       "      <td>1072</td>\n",
       "    </tr>\n",
       "  </tbody>\n",
       "</table>\n",
       "</div>"
      ],
      "text/plain": [
       "       商品编码    数量\n",
       "2    343738  6688\n",
       "3    343938  5905\n",
       "463  917859  2555\n",
       "417  881927  2199\n",
       "499  AA7217  1786\n",
       "498  AA7216  1694\n",
       "464  917860  1686\n",
       "262  834365  1508\n",
       "414  881924  1252\n",
       "263  834366  1072"
      ]
     },
     "execution_count": 266,
     "metadata": {},
     "output_type": "execute_result"
    }
   ],
   "source": [
    "date_range = pd.date_range(start=date_start_2017, end=date_end_2017, freq='w')  # 20180611 is Monday\n",
    "top_skus = mall_sale[mall_sale['销售时间'].isin(date_range)].groupby(['商品编码']).sum().sort_values(by='数量', ascending=False).index[:10].tolist()\n",
    "top_skus = ['AA7217']\n",
    "print(top_skus)\n",
    "mall_sale[mall_sale['销售时间'].isin(date_range)].groupby(['商品编码']).sum().reset_index().sort_values(by=['数量'], ascending=False).head(10)"
   ]
  },
  {
   "cell_type": "code",
   "execution_count": 267,
   "metadata": {
    "scrolled": false
   },
   "outputs": [
    {
     "name": "stderr",
     "output_type": "stream",
     "text": [
      "D:\\software\\anaconda\\anaconda\\lib\\site-packages\\ipykernel_launcher.py:2: UserWarning: Boolean Series key will be reindexed to match DataFrame index.\n",
      "  \n"
     ]
    },
    {
     "name": "stdout",
     "output_type": "stream",
     "text": [
      "105.05882352941177\n"
     ]
    },
    {
     "data": {
      "image/png": "[encoded data removed]",
      "text/plain": [
       "<Figure size 1440x720 with 1 Axes>"
      ]
     },
     "metadata": {},
     "output_type": "display_data"
    }
   ],
   "source": [
    "plt.figure(figsize=(20,10))\n",
    "_ = mall_sale[mall_sale['销售时间'].isin(date_range)][mall_sale['商品编码'].isin(top_skus)].groupby(['商品编码','销售时间']).sum().reset_index()\n",
    "sns.lineplot(x='销售时间',y='数量',hue='商品编码',\n",
    "           data=_)\n",
    "print(_['数量'].mean())"
   ]
  },
  {
   "cell_type": "code",
   "execution_count": 268,
   "metadata": {},
   "outputs": [
    {
     "name": "stderr",
     "output_type": "stream",
     "text": [
      "D:\\software\\anaconda\\anaconda\\lib\\site-packages\\ipykernel_launcher.py:1: UserWarning: Boolean Series key will be reindexed to match DataFrame index.\n",
      "  \"\"\"Entry point for launching an IPython kernel.\n"
     ]
    },
    {
     "data": {
      "text/html": [
       "<div>\n",
       "<style scoped>\n",
       "    .dataframe tbody tr th:only-of-type {\n",
       "        vertical-align: middle;\n",
       "    }\n",
       "\n",
       "    .dataframe tbody tr th {\n",
       "        vertical-align: top;\n",
       "    }\n",
       "\n",
       "    .dataframe thead th {\n",
       "        text-align: right;\n",
       "    }\n",
       "</style>\n",
       "<table border=\"1\" class=\"dataframe\">\n",
       "  <thead>\n",
       "    <tr style=\"text-align: right;\">\n",
       "      <th></th>\n",
       "      <th>商品编码</th>\n",
       "      <th>销售时间</th>\n",
       "      <th>数量</th>\n",
       "    </tr>\n",
       "  </thead>\n",
       "  <tbody>\n",
       "    <tr>\n",
       "      <th>0</th>\n",
       "      <td>AA7217</td>\n",
       "      <td>2017-07-23</td>\n",
       "      <td>15</td>\n",
       "    </tr>\n",
       "    <tr>\n",
       "      <th>1</th>\n",
       "      <td>AA7217</td>\n",
       "      <td>2017-07-30</td>\n",
       "      <td>65</td>\n",
       "    </tr>\n",
       "    <tr>\n",
       "      <th>2</th>\n",
       "      <td>AA7217</td>\n",
       "      <td>2017-08-06</td>\n",
       "      <td>50</td>\n",
       "    </tr>\n",
       "    <tr>\n",
       "      <th>3</th>\n",
       "      <td>AA7217</td>\n",
       "      <td>2017-08-13</td>\n",
       "      <td>53</td>\n",
       "    </tr>\n",
       "    <tr>\n",
       "      <th>4</th>\n",
       "      <td>AA7217</td>\n",
       "      <td>2017-08-20</td>\n",
       "      <td>89</td>\n",
       "    </tr>\n",
       "    <tr>\n",
       "      <th>5</th>\n",
       "      <td>AA7217</td>\n",
       "      <td>2017-08-27</td>\n",
       "      <td>108</td>\n",
       "    </tr>\n",
       "    <tr>\n",
       "      <th>6</th>\n",
       "      <td>AA7217</td>\n",
       "      <td>2017-09-03</td>\n",
       "      <td>191</td>\n",
       "    </tr>\n",
       "    <tr>\n",
       "      <th>7</th>\n",
       "      <td>AA7217</td>\n",
       "      <td>2017-09-10</td>\n",
       "      <td>136</td>\n",
       "    </tr>\n",
       "    <tr>\n",
       "      <th>8</th>\n",
       "      <td>AA7217</td>\n",
       "      <td>2017-09-17</td>\n",
       "      <td>118</td>\n",
       "    </tr>\n",
       "    <tr>\n",
       "      <th>9</th>\n",
       "      <td>AA7217</td>\n",
       "      <td>2017-09-24</td>\n",
       "      <td>98</td>\n",
       "    </tr>\n",
       "    <tr>\n",
       "      <th>10</th>\n",
       "      <td>AA7217</td>\n",
       "      <td>2017-10-01</td>\n",
       "      <td>118</td>\n",
       "    </tr>\n",
       "    <tr>\n",
       "      <th>11</th>\n",
       "      <td>AA7217</td>\n",
       "      <td>2017-10-08</td>\n",
       "      <td>138</td>\n",
       "    </tr>\n",
       "    <tr>\n",
       "      <th>12</th>\n",
       "      <td>AA7217</td>\n",
       "      <td>2017-10-15</td>\n",
       "      <td>83</td>\n",
       "    </tr>\n",
       "    <tr>\n",
       "      <th>13</th>\n",
       "      <td>AA7217</td>\n",
       "      <td>2017-10-22</td>\n",
       "      <td>92</td>\n",
       "    </tr>\n",
       "    <tr>\n",
       "      <th>14</th>\n",
       "      <td>AA7217</td>\n",
       "      <td>2017-10-29</td>\n",
       "      <td>63</td>\n",
       "    </tr>\n",
       "    <tr>\n",
       "      <th>15</th>\n",
       "      <td>AA7217</td>\n",
       "      <td>2017-11-05</td>\n",
       "      <td>202</td>\n",
       "    </tr>\n",
       "    <tr>\n",
       "      <th>16</th>\n",
       "      <td>AA7217</td>\n",
       "      <td>2017-11-12</td>\n",
       "      <td>167</td>\n",
       "    </tr>\n",
       "  </tbody>\n",
       "</table>\n",
       "</div>"
      ],
      "text/plain": [
       "      商品编码       销售时间   数量\n",
       "0   AA7217 2017-07-23   15\n",
       "1   AA7217 2017-07-30   65\n",
       "2   AA7217 2017-08-06   50\n",
       "3   AA7217 2017-08-13   53\n",
       "4   AA7217 2017-08-20   89\n",
       "5   AA7217 2017-08-27  108\n",
       "6   AA7217 2017-09-03  191\n",
       "7   AA7217 2017-09-10  136\n",
       "8   AA7217 2017-09-17  118\n",
       "9   AA7217 2017-09-24   98\n",
       "10  AA7217 2017-10-01  118\n",
       "11  AA7217 2017-10-08  138\n",
       "12  AA7217 2017-10-15   83\n",
       "13  AA7217 2017-10-22   92\n",
       "14  AA7217 2017-10-29   63\n",
       "15  AA7217 2017-11-05  202\n",
       "16  AA7217 2017-11-12  167"
      ]
     },
     "execution_count": 268,
     "metadata": {},
     "output_type": "execute_result"
    }
   ],
   "source": [
    "mall_sale[mall_sale['销售时间'].isin(date_range)][mall_sale['商品编码'].isin(top_skus)].groupby(['商品编码','销售时间']).sum().reset_index()"
   ]
  },
  {
   "cell_type": "code",
   "execution_count": 269,
   "metadata": {},
   "outputs": [
    {
     "name": "stderr",
     "output_type": "stream",
     "text": [
      "D:\\software\\anaconda\\anaconda\\lib\\site-packages\\ipykernel_launcher.py:3: UserWarning: Boolean Series key will be reindexed to match DataFrame index.\n",
      "  This is separate from the ipykernel package so we can avoid doing imports until\n"
     ]
    },
    {
     "name": "stdout",
     "output_type": "stream",
     "text": [
      "99.52380952380952\n"
     ]
    },
    {
     "data": {
      "image/png": "[encoded data removed]",
      "text/plain": [
       "<Figure size 1440x720 with 1 Axes>"
      ]
     },
     "metadata": {},
     "output_type": "display_data"
    }
   ],
   "source": [
    "plt.figure(figsize=(20,10))\n",
    "date_range_2018 = pd.date_range(date_start_2018, date_end_2018, freq='w')\n",
    "_ = mall_sale[mall_sale['销售时间'].isin(date_range_2018)][mall_sale['商品编码'].isin(top_skus)].groupby(['商品编码','销售时间']).sum().reset_index()\n",
    "sns.lineplot(x='销售时间',y='数量',hue='商品编码',\n",
    "           data=_)\n",
    "print(_['数量'].mean())"
   ]
  },
  {
   "cell_type": "code",
   "execution_count": 270,
   "metadata": {},
   "outputs": [
    {
     "name": "stderr",
     "output_type": "stream",
     "text": [
      "D:\\software\\anaconda\\anaconda\\lib\\site-packages\\ipykernel_launcher.py:1: UserWarning: Boolean Series key will be reindexed to match DataFrame index.\n",
      "  \"\"\"Entry point for launching an IPython kernel.\n"
     ]
    },
    {
     "data": {
      "text/html": [
       "<div>\n",
       "<style scoped>\n",
       "    .dataframe tbody tr th:only-of-type {\n",
       "        vertical-align: middle;\n",
       "    }\n",
       "\n",
       "    .dataframe tbody tr th {\n",
       "        vertical-align: top;\n",
       "    }\n",
       "\n",
       "    .dataframe thead th {\n",
       "        text-align: right;\n",
       "    }\n",
       "</style>\n",
       "<table border=\"1\" class=\"dataframe\">\n",
       "  <thead>\n",
       "    <tr style=\"text-align: right;\">\n",
       "      <th></th>\n",
       "      <th>商品编码</th>\n",
       "      <th>销售时间</th>\n",
       "      <th>数量</th>\n",
       "    </tr>\n",
       "  </thead>\n",
       "  <tbody>\n",
       "    <tr>\n",
       "      <th>0</th>\n",
       "      <td>AA7217</td>\n",
       "      <td>2018-07-22</td>\n",
       "      <td>31</td>\n",
       "    </tr>\n",
       "    <tr>\n",
       "      <th>1</th>\n",
       "      <td>AA7217</td>\n",
       "      <td>2018-07-29</td>\n",
       "      <td>42</td>\n",
       "    </tr>\n",
       "    <tr>\n",
       "      <th>2</th>\n",
       "      <td>AA7217</td>\n",
       "      <td>2018-08-05</td>\n",
       "      <td>40</td>\n",
       "    </tr>\n",
       "    <tr>\n",
       "      <th>3</th>\n",
       "      <td>AA7217</td>\n",
       "      <td>2018-08-12</td>\n",
       "      <td>46</td>\n",
       "    </tr>\n",
       "    <tr>\n",
       "      <th>4</th>\n",
       "      <td>AA7217</td>\n",
       "      <td>2018-08-19</td>\n",
       "      <td>87</td>\n",
       "    </tr>\n",
       "    <tr>\n",
       "      <th>5</th>\n",
       "      <td>AA7217</td>\n",
       "      <td>2018-08-26</td>\n",
       "      <td>89</td>\n",
       "    </tr>\n",
       "    <tr>\n",
       "      <th>6</th>\n",
       "      <td>AA7217</td>\n",
       "      <td>2018-09-02</td>\n",
       "      <td>144</td>\n",
       "    </tr>\n",
       "    <tr>\n",
       "      <th>7</th>\n",
       "      <td>AA7217</td>\n",
       "      <td>2018-09-09</td>\n",
       "      <td>102</td>\n",
       "    </tr>\n",
       "    <tr>\n",
       "      <th>8</th>\n",
       "      <td>AA7217</td>\n",
       "      <td>2018-09-16</td>\n",
       "      <td>88</td>\n",
       "    </tr>\n",
       "    <tr>\n",
       "      <th>9</th>\n",
       "      <td>AA7217</td>\n",
       "      <td>2018-09-23</td>\n",
       "      <td>100</td>\n",
       "    </tr>\n",
       "    <tr>\n",
       "      <th>10</th>\n",
       "      <td>AA7217</td>\n",
       "      <td>2018-09-30</td>\n",
       "      <td>98</td>\n",
       "    </tr>\n",
       "    <tr>\n",
       "      <th>11</th>\n",
       "      <td>AA7217</td>\n",
       "      <td>2018-10-07</td>\n",
       "      <td>180</td>\n",
       "    </tr>\n",
       "    <tr>\n",
       "      <th>12</th>\n",
       "      <td>AA7217</td>\n",
       "      <td>2018-10-14</td>\n",
       "      <td>75</td>\n",
       "    </tr>\n",
       "    <tr>\n",
       "      <th>13</th>\n",
       "      <td>AA7217</td>\n",
       "      <td>2018-10-21</td>\n",
       "      <td>200</td>\n",
       "    </tr>\n",
       "    <tr>\n",
       "      <th>14</th>\n",
       "      <td>AA7217</td>\n",
       "      <td>2018-10-28</td>\n",
       "      <td>147</td>\n",
       "    </tr>\n",
       "    <tr>\n",
       "      <th>15</th>\n",
       "      <td>AA7217</td>\n",
       "      <td>2018-11-04</td>\n",
       "      <td>162</td>\n",
       "    </tr>\n",
       "    <tr>\n",
       "      <th>16</th>\n",
       "      <td>AA7217</td>\n",
       "      <td>2018-11-11</td>\n",
       "      <td>220</td>\n",
       "    </tr>\n",
       "    <tr>\n",
       "      <th>17</th>\n",
       "      <td>AA7217</td>\n",
       "      <td>2018-11-18</td>\n",
       "      <td>47</td>\n",
       "    </tr>\n",
       "    <tr>\n",
       "      <th>18</th>\n",
       "      <td>AA7217</td>\n",
       "      <td>2018-11-25</td>\n",
       "      <td>62</td>\n",
       "    </tr>\n",
       "    <tr>\n",
       "      <th>19</th>\n",
       "      <td>AA7217</td>\n",
       "      <td>2018-12-02</td>\n",
       "      <td>42</td>\n",
       "    </tr>\n",
       "    <tr>\n",
       "      <th>20</th>\n",
       "      <td>AA7217</td>\n",
       "      <td>2018-12-09</td>\n",
       "      <td>88</td>\n",
       "    </tr>\n",
       "  </tbody>\n",
       "</table>\n",
       "</div>"
      ],
      "text/plain": [
       "      商品编码       销售时间   数量\n",
       "0   AA7217 2018-07-22   31\n",
       "1   AA7217 2018-07-29   42\n",
       "2   AA7217 2018-08-05   40\n",
       "3   AA7217 2018-08-12   46\n",
       "4   AA7217 2018-08-19   87\n",
       "5   AA7217 2018-08-26   89\n",
       "6   AA7217 2018-09-02  144\n",
       "7   AA7217 2018-09-09  102\n",
       "8   AA7217 2018-09-16   88\n",
       "9   AA7217 2018-09-23  100\n",
       "10  AA7217 2018-09-30   98\n",
       "11  AA7217 2018-10-07  180\n",
       "12  AA7217 2018-10-14   75\n",
       "13  AA7217 2018-10-21  200\n",
       "14  AA7217 2018-10-28  147\n",
       "15  AA7217 2018-11-04  162\n",
       "16  AA7217 2018-11-11  220\n",
       "17  AA7217 2018-11-18   47\n",
       "18  AA7217 2018-11-25   62\n",
       "19  AA7217 2018-12-02   42\n",
       "20  AA7217 2018-12-09   88"
      ]
     },
     "execution_count": 270,
     "metadata": {},
     "output_type": "execute_result"
    }
   ],
   "source": [
    "mall_sale[mall_sale['销售时间'].isin(date_range_2018)][mall_sale['商品编码'].isin(top_skus)].groupby(['商品编码','销售时间']).sum().reset_index()"
   ]
  },
  {
   "cell_type": "code",
   "execution_count": 271,
   "metadata": {},
   "outputs": [
    {
     "name": "stderr",
     "output_type": "stream",
     "text": [
      "D:\\software\\anaconda\\anaconda\\lib\\site-packages\\ipykernel_launcher.py:1: UserWarning: Boolean Series key will be reindexed to match DataFrame index.\n",
      "  \"\"\"Entry point for launching an IPython kernel.\n"
     ]
    },
    {
     "data": {
      "text/html": [
       "<div>\n",
       "<style scoped>\n",
       "    .dataframe tbody tr th:only-of-type {\n",
       "        vertical-align: middle;\n",
       "    }\n",
       "\n",
       "    .dataframe tbody tr th {\n",
       "        vertical-align: top;\n",
       "    }\n",
       "\n",
       "    .dataframe thead th {\n",
       "        text-align: right;\n",
       "    }\n",
       "</style>\n",
       "<table border=\"1\" class=\"dataframe\">\n",
       "  <thead>\n",
       "    <tr style=\"text-align: right;\">\n",
       "      <th></th>\n",
       "      <th>销售时间</th>\n",
       "      <th>数量</th>\n",
       "      <th>商圈</th>\n",
       "      <th>商品编码</th>\n",
       "    </tr>\n",
       "  </thead>\n",
       "  <tbody>\n",
       "    <tr>\n",
       "      <th>11342</th>\n",
       "      <td>2017-07-30</td>\n",
       "      <td>1</td>\n",
       "      <td>七宝</td>\n",
       "      <td>AA7217</td>\n",
       "    </tr>\n",
       "    <tr>\n",
       "      <th>11343</th>\n",
       "      <td>2017-08-06</td>\n",
       "      <td>4</td>\n",
       "      <td>七宝</td>\n",
       "      <td>AA7217</td>\n",
       "    </tr>\n",
       "    <tr>\n",
       "      <th>11344</th>\n",
       "      <td>2017-08-13</td>\n",
       "      <td>5</td>\n",
       "      <td>七宝</td>\n",
       "      <td>AA7217</td>\n",
       "    </tr>\n",
       "    <tr>\n",
       "      <th>11345</th>\n",
       "      <td>2017-08-20</td>\n",
       "      <td>7</td>\n",
       "      <td>七宝</td>\n",
       "      <td>AA7217</td>\n",
       "    </tr>\n",
       "    <tr>\n",
       "      <th>11346</th>\n",
       "      <td>2017-08-27</td>\n",
       "      <td>6</td>\n",
       "      <td>七宝</td>\n",
       "      <td>AA7217</td>\n",
       "    </tr>\n",
       "  </tbody>\n",
       "</table>\n",
       "</div>"
      ],
      "text/plain": [
       "            销售时间  数量  商圈    商品编码\n",
       "11342 2017-07-30   1  七宝  AA7217\n",
       "11343 2017-08-06   4  七宝  AA7217\n",
       "11344 2017-08-13   5  七宝  AA7217\n",
       "11345 2017-08-20   7  七宝  AA7217\n",
       "11346 2017-08-27   6  七宝  AA7217"
      ]
     },
     "execution_count": 271,
     "metadata": {},
     "output_type": "execute_result"
    }
   ],
   "source": [
    "data = mall_sale[mall_sale['销售时间'].isin(np.concatenate([date_range,date_range_2018]))][mall_sale['商品编码'].isin(top_skus)]\n",
    "data.head()"
   ]
  },
  {
   "cell_type": "code",
   "execution_count": 272,
   "metadata": {},
   "outputs": [
    {
     "data": {
      "text/plain": [
       "array(['AA7217'], dtype=object)"
      ]
     },
     "execution_count": 272,
     "metadata": {},
     "output_type": "execute_result"
    }
   ],
   "source": [
    "data['商品编码'].unique()"
   ]
  },
  {
   "cell_type": "code",
   "execution_count": null,
   "metadata": {},
   "outputs": [],
   "source": []
  },
  {
   "cell_type": "code",
   "execution_count": 273,
   "metadata": {},
   "outputs": [],
   "source": [
    "_2017 = data[data['销售时间'].isin(date_range)]\n",
    "_2018 = data[data['销售时间'].isin(date_range_2018)]\n",
    "data_2017 = {key: _2017.loc[value] for key, value in _2017.groupby('商品编码').groups.items()}\n",
    "data_2018 = {key: _2018.loc[value] for key, value in _2018.groupby('商品编码').groups.items()}"
   ]
  },
  {
   "cell_type": "code",
   "execution_count": 274,
   "metadata": {},
   "outputs": [],
   "source": [
    " def Calculate_Pearson(shangquan, sku_sales, date_start, date_end):\n",
    "    n = len(shangquan)\n",
    "    pearson_p_value = [['']*n for _ in range(n)]\n",
    "    pearson = np.zeros(shape=(n ,n))\n",
    "    for i in range(n):\n",
    "        for j in range(n):\n",
    "            ret = scipy.stats.pearsonr(sku_sales.values.T[i], sku_sales.values.T[j])\n",
    "            pearson[i][j] = ret[0]\n",
    "            p_value = np.floor(ret[1]*100)/100.0\n",
    "            pearson_p_value[i][j] += '%.2f' %p_value\n",
    "            if 0.05<p_value<=0.1:\n",
    "                pearson_p_value[i][j] += '*'\n",
    "            elif 0.01<p_value<=0.05:\n",
    "                pearson_p_value[i][j] += '**'\n",
    "            elif p_value<=0.01:\n",
    "                pearson_p_value[i][j] += '***'\n",
    "    pearson = pd.DataFrame(pearson)\n",
    "    pearson_p_value = pd.DataFrame(pearson_p_value)\n",
    "    pearson.columns, pearson_p_value.columns = shangquan, shangquan\n",
    "    pearson.index, pearson_p_value.index = shangquan, shangquan\n",
    "    return pearson, pearson_p_value\n",
    "    \n",
    "import os\n",
    "import scipy\n",
    "for sku in data['商品编码'].unique():\n",
    "    try:\n",
    "        sku1_2017 = data_2017[sku].set_index(['销售时间','商圈'])['数量'].unstack().fillna(0)\n",
    "        sku1_2018 = data_2018[sku].set_index(['销售时间','商圈'])['数量'].unstack().fillna(0)\n",
    "        shangquan = set(sku1_2017.columns).intersection(sku1_2018.columns) \n",
    "        if not os.path.exists('./input/%s' %sku):\n",
    "            os.makedirs('./input/%s' %sku)\n",
    "\n",
    "        sku1_2017.to_excel('./input/%s/%s_%s_sales.xlsx' % (sku, date_start_2017, date_end_2017))\n",
    "        sku1_2018.to_excel('./input/%s/%s_%s_sales.xlsx' % (sku, date_start_2018, date_end_2018))\n",
    "        \n",
    "        cov = pd.DataFrame(np.cov(sku1_2017.values.T))\n",
    "        cov.to_excel('./input/%s/%s_%s_cov.xlsx' % (sku, date_start_2017, date_end_2017))\n",
    "        cov = pd.DataFrame(np.cov(sku1_2018.values.T))\n",
    "        cov.to_excel('./input/%s/%s_%s_cov.xlsx' % (sku, date_start_2018, date_end_2018))\n",
    "        \n",
    "        \n",
    "        pearson, pearson_p_value = Calculate_Pearson(shangquan, sku1_2017, date_start_2017, date_end_2017)\n",
    "        pearson.to_excel('./input/%s/%s_%s_pearson.xlsx' % (sku, date_start_2017, date_end_2017))\n",
    "        pearson_p_value.to_excel('./input/%s/%s_%s_pearson_p_value.xlsx' % (sku, date_start_2017, date_end_2017))\n",
    "        \n",
    "        pearson, pearson_p_value = Calculate_Pearson(shangquan, sku1_2018, date_start_2018, date_end_2018)\n",
    "        pearson.to_excel('./input/%s/%s_%s_pearson.xlsx' % (sku, date_start_2018, date_end_2018))\n",
    "        pearson_p_value.to_excel('./input/%s/%s_%s_pearson_p_value.xlsx' % (sku, date_start_2018, date_end_2018))   \n",
    "        \n",
    "    except Exception as e:\n",
    "        print(e)"
   ]
  },
  {
   "cell_type": "code",
   "execution_count": null,
   "metadata": {},
   "outputs": [],
   "source": []
  },
  {
   "cell_type": "code",
   "execution_count": 42,
   "metadata": {},
   "outputs": [],
   "source": []
  },
  {
   "cell_type": "code",
   "execution_count": 68,
   "metadata": {},
   "outputs": [
    {
     "data": {
      "text/plain": [
       "{'刘行', '普陀中环', '紫藤路', '陕西南路'}"
      ]
     },
     "execution_count": 68,
     "metadata": {},
     "output_type": "execute_result"
    }
   ],
   "source": [
    "set(stores['商圈'].unique())-set(sku1_2017.columns)"
   ]
  },
  {
   "cell_type": "code",
   "execution_count": null,
   "metadata": {},
   "outputs": [],
   "source": []
  },
  {
   "cell_type": "code",
   "execution_count": 69,
   "metadata": {},
   "outputs": [
    {
     "data": {
      "text/plain": [
       "Index(['七宝', '世博源', '世纪大道', '五莲路', '五角场', '共康路', '南京东路', '周浦', '嘉松中路', '娄山关路',\n",
       "       '宝山巴黎春天', '宝山白玉兰广场', '徐家汇', '江浦路地铁站', '浦东巴黎春天', '浦东金汇广场', '环球港', '莘庄',\n",
       "       '莲花路', '虹桥天地', '金运路', '陆家嘴', '静安寺'],\n",
       "      dtype='object', name='商圈')"
      ]
     },
     "execution_count": 69,
     "metadata": {},
     "output_type": "execute_result"
    }
   ],
   "source": [
    "shangquan"
   ]
  },
  {
   "cell_type": "code",
   "execution_count": null,
   "metadata": {},
   "outputs": [],
   "source": []
  },
  {
   "cell_type": "code",
   "execution_count": null,
   "metadata": {},
   "outputs": [],
   "source": []
  },
  {
   "cell_type": "code",
   "execution_count": null,
   "metadata": {},
   "outputs": [],
   "source": []
  },
  {
   "cell_type": "markdown",
   "metadata": {},
   "source": [
    "# Graph"
   ]
  },
  {
   "cell_type": "code",
   "execution_count": 292,
   "metadata": {},
   "outputs": [
    {
     "name": "stdout",
     "output_type": "stream",
     "text": [
      "[[1 0 0 0 0 0 1 0 1 1 1 0 1 0 0 0 1 1 1 1 1 0 1]\n",
      " [0 1 1 1 1 1 1 0 0 1 1 1 1 1 1 0 1 0 0 0 0 1 1]\n",
      " [1 0 0 0 0 0 0 0 0 0 0 0 0 0 0 0 0 1 1 1 0 0 0]\n",
      " [1 1 1 0 0 0 1 1 0 1 0 0 1 0 1 0 1 1 1 0 0 0 1]\n",
      " [0 1 1 1 1 1 1 0 0 1 1 0 1 1 1 0 1 0 0 0 0 1 1]\n",
      " [0 1 1 1 0 0 1 1 0 0 0 0 0 1 1 1 0 0 0 0 0 1 0]\n",
      " [0 0 0 0 1 1 1 0 0 1 1 1 0 1 0 0 1 0 0 0 0 1 1]]\n"
     ]
    }
   ],
   "source": [
    "rider_speed = 18  # XX km/hr\n",
    "Aplus_time_limit = 1  # A+ store must be fulfilled within X hr(s)\n",
    "allowed_rider_travel_time = 1  # X hrs allowed for riders on the way\n",
    "\n",
    "\n",
    "distance = pd.read_excel('./input/network_distance.xlsx', index_col=0)\n",
    "shangquan_1hr_arrival = ['南京东路', '静安寺', '世纪大道', '陆家嘴', '五角场']\n",
    "shangquan_1hr_arrival_cols = []\n",
    "for k, col in enumerate(distance.columns):\n",
    "    if col in shangquan_1hr_arrival:\n",
    "        shangquan_1hr_arrival_cols.append(k)\n",
    "\n",
    "travel_time = distance.values/rider_speed\n",
    "graph = np.where(travel_time<=allowed_rider_travel_time, 1, 0)\n",
    "for k in shangquan_1hr_arrival_cols:\n",
    "    graph[:, k] = np.where(travel_time[:, k] <= Aplus_time_limit, 1, 0)\n",
    "print(graph)\n",
    "#pd.DataFrame(graph, index=distance.index, columns=distance.columns).to_excel('./input/graph.xlsx')"
   ]
  },
  {
   "cell_type": "code",
   "execution_count": 294,
   "metadata": {},
   "outputs": [
    {
     "data": {
      "text/plain": [
       "array([3, 4, 4, 3, 3, 3, 6, 2, 1, 5, 4, 2, 4, 4, 4, 1, 5, 3, 3, 2, 1, 4,\n",
       "       5])"
      ]
     },
     "execution_count": 294,
     "metadata": {},
     "output_type": "execute_result"
    }
   ],
   "source": [
    "graph.sum(axis=0)"
   ]
  },
  {
   "cell_type": "code",
   "execution_count": 120,
   "metadata": {},
   "outputs": [
    {
     "data": {
      "text/plain": [
       "array([5964., 8904., 3094., 7546., 4606., 5348., 5306.])"
      ]
     },
     "execution_count": 120,
     "metadata": {},
     "output_type": "execute_result"
    }
   ],
   "source": [
    "np.asarray([4.26, 6.36, 2.21, 5.39, 3.29, 3.82, 3.79])*200*7"
   ]
  },
  {
   "cell_type": "code",
   "execution_count": 44,
   "metadata": {},
   "outputs": [
    {
     "data": {
      "text/plain": [
       "0.04166666666666667"
      ]
     },
     "execution_count": 44,
     "metadata": {},
     "output_type": "execute_result"
    }
   ],
   "source": [
    "343738  5258/30291"
   ]
  },
  {
   "cell_type": "code",
   "execution_count": 218,
   "metadata": {},
   "outputs": [
    {
     "data": {
      "text/plain": [
       "45436"
      ]
     },
     "execution_count": 218,
     "metadata": {},
     "output_type": "execute_result"
    }
   ],
   "source": [
    "date_range = pd.date_range(start='2017-1-1', end='2017-4-2', freq='w')\n",
    "mall_sale[mall_sale['销售时间'].isin(date_range)]['数量'].sum()"
   ]
  },
  {
   "cell_type": "code",
   "execution_count": 229,
   "metadata": {},
   "outputs": [
    {
     "data": {
      "text/plain": [
       "30291"
      ]
     },
     "execution_count": 229,
     "metadata": {},
     "output_type": "execute_result"
    }
   ],
   "source": [
    "_ = mall_sale[mall_sale['销售时间'].isin(date_range)]\n",
    "_ = _.groupby('商品编码')[['数量']].sum().sort_values('数量', ascending=False).iloc[:40, :]\n",
    "_['数量'].sum()"
   ]
  },
  {
   "cell_type": "code",
   "execution_count": 295,
   "metadata": {},
   "outputs": [
    {
     "data": {
      "text/plain": [
       "0.17358291241622925"
      ]
     },
     "execution_count": 295,
     "metadata": {},
     "output_type": "execute_result"
    }
   ],
   "source": [
    "5258/30291"
   ]
  },
  {
   "cell_type": "code",
   "execution_count": 53,
   "metadata": {},
   "outputs": [
    {
     "data": {
      "text/plain": [
       "0.52"
      ]
     },
     "execution_count": 53,
     "metadata": {},
     "output_type": "execute_result"
    }
   ],
   "source": []
  },
  {
   "cell_type": "code",
   "execution_count": 207,
   "metadata": {},
   "outputs": [
    {
     "data": {
      "text/plain": [
       "商品编码\n",
       "343738    42515\n",
       "343938    40152\n",
       "917859    11622\n",
       "AA7216     9664\n",
       "881927     8657\n",
       "905220     6162\n",
       "AA7217     5544\n",
       "847569     5313\n",
       "844105     5310\n",
       "881926     5255\n",
       "Name: 数量, dtype: int64"
      ]
     },
     "execution_count": 207,
     "metadata": {},
     "output_type": "execute_result"
    }
   ],
   "source": [
    "sales.groupby('商品编码')['数量'].sum().sort_values(ascending=False).iloc[:10]"
   ]
  },
  {
   "cell_type": "code",
   "execution_count": 218,
   "metadata": {},
   "outputs": [
    {
     "data": {
      "text/plain": [
       "Timestamp('2017-06-09 00:00:00')"
      ]
     },
     "execution_count": 218,
     "metadata": {},
     "output_type": "execute_result"
    }
   ],
   "source": [
    "_ = sales[sales['商品编码']=='917859']\n",
    "min(_['销售时间'])"
   ]
  },
  {
   "cell_type": "code",
   "execution_count": 246,
   "metadata": {},
   "outputs": [
    {
     "name": "stderr",
     "output_type": "stream",
     "text": [
      "D:\\software\\anaconda\\anaconda\\lib\\site-packages\\ipykernel_launcher.py:1: UserWarning: Boolean Series key will be reindexed to match DataFrame index.\n",
      "  \"\"\"Entry point for launching an IPython kernel.\n"
     ]
    }
   ],
   "source": [
    "_ = mall_sale[mall_sale['销售时间'].isin(date_range)][mall_sale['商品编码'].isin(top_skus)].groupby(['商品编码','销售时间']).sum().reset_index()"
   ]
  },
  {
   "cell_type": "code",
   "execution_count": 247,
   "metadata": {},
   "outputs": [
    {
     "data": {
      "text/html": [
       "<div>\n",
       "<style scoped>\n",
       "    .dataframe tbody tr th:only-of-type {\n",
       "        vertical-align: middle;\n",
       "    }\n",
       "\n",
       "    .dataframe tbody tr th {\n",
       "        vertical-align: top;\n",
       "    }\n",
       "\n",
       "    .dataframe thead th {\n",
       "        text-align: right;\n",
       "    }\n",
       "</style>\n",
       "<table border=\"1\" class=\"dataframe\">\n",
       "  <thead>\n",
       "    <tr style=\"text-align: right;\">\n",
       "      <th></th>\n",
       "      <th>商品编码</th>\n",
       "      <th>销售时间</th>\n",
       "      <th>数量</th>\n",
       "    </tr>\n",
       "  </thead>\n",
       "  <tbody>\n",
       "    <tr>\n",
       "      <th>0</th>\n",
       "      <td>AA7217</td>\n",
       "      <td>2017-07-23</td>\n",
       "      <td>15</td>\n",
       "    </tr>\n",
       "    <tr>\n",
       "      <th>1</th>\n",
       "      <td>AA7217</td>\n",
       "      <td>2017-07-30</td>\n",
       "      <td>65</td>\n",
       "    </tr>\n",
       "    <tr>\n",
       "      <th>2</th>\n",
       "      <td>AA7217</td>\n",
       "      <td>2017-08-06</td>\n",
       "      <td>50</td>\n",
       "    </tr>\n",
       "    <tr>\n",
       "      <th>3</th>\n",
       "      <td>AA7217</td>\n",
       "      <td>2017-08-13</td>\n",
       "      <td>53</td>\n",
       "    </tr>\n",
       "    <tr>\n",
       "      <th>4</th>\n",
       "      <td>AA7217</td>\n",
       "      <td>2017-08-20</td>\n",
       "      <td>89</td>\n",
       "    </tr>\n",
       "    <tr>\n",
       "      <th>...</th>\n",
       "      <td>...</td>\n",
       "      <td>...</td>\n",
       "      <td>...</td>\n",
       "    </tr>\n",
       "    <tr>\n",
       "      <th>76</th>\n",
       "      <td>AA7217</td>\n",
       "      <td>2019-01-06</td>\n",
       "      <td>171</td>\n",
       "    </tr>\n",
       "    <tr>\n",
       "      <th>77</th>\n",
       "      <td>AA7217</td>\n",
       "      <td>2019-01-13</td>\n",
       "      <td>6</td>\n",
       "    </tr>\n",
       "    <tr>\n",
       "      <th>78</th>\n",
       "      <td>AA7217</td>\n",
       "      <td>2019-01-20</td>\n",
       "      <td>13</td>\n",
       "    </tr>\n",
       "    <tr>\n",
       "      <th>79</th>\n",
       "      <td>AA7217</td>\n",
       "      <td>2019-01-27</td>\n",
       "      <td>4</td>\n",
       "    </tr>\n",
       "    <tr>\n",
       "      <th>80</th>\n",
       "      <td>AA7217</td>\n",
       "      <td>2019-02-03</td>\n",
       "      <td>5</td>\n",
       "    </tr>\n",
       "  </tbody>\n",
       "</table>\n",
       "<p>81 rows × 3 columns</p>\n",
       "</div>"
      ],
      "text/plain": [
       "      商品编码       销售时间   数量\n",
       "0   AA7217 2017-07-23   15\n",
       "1   AA7217 2017-07-30   65\n",
       "2   AA7217 2017-08-06   50\n",
       "3   AA7217 2017-08-13   53\n",
       "4   AA7217 2017-08-20   89\n",
       "..     ...        ...  ...\n",
       "76  AA7217 2019-01-06  171\n",
       "77  AA7217 2019-01-13    6\n",
       "78  AA7217 2019-01-20   13\n",
       "79  AA7217 2019-01-27    4\n",
       "80  AA7217 2019-02-03    5\n",
       "\n",
       "[81 rows x 3 columns]"
      ]
     },
     "execution_count": 247,
     "metadata": {},
     "output_type": "execute_result"
    }
   ],
   "source": [
    "_"
   ]
  },
  {
   "cell_type": "code",
   "execution_count": 248,
   "metadata": {},
   "outputs": [
    {
     "name": "stdout",
     "output_type": "stream",
     "text": [
      "2017-07-23 00:00:00 15\n",
      "2017-07-30 00:00:00 65\n",
      "2017-08-06 00:00:00 50\n",
      "2017-08-13 00:00:00 53\n",
      "2017-08-20 00:00:00 89\n",
      "2017-08-27 00:00:00 108\n",
      "2017-09-03 00:00:00 191\n",
      "2017-09-10 00:00:00 136\n",
      "2017-09-17 00:00:00 118\n",
      "2017-09-24 00:00:00 98\n",
      "2017-10-01 00:00:00 118\n",
      "2017-10-08 00:00:00 138\n",
      "2017-10-15 00:00:00 83\n",
      "2017-10-22 00:00:00 92\n",
      "2017-10-29 00:00:00 63\n",
      "2017-11-05 00:00:00 202\n",
      "2017-11-12 00:00:00 167\n",
      "2017-11-19 00:00:00 6\n",
      "2017-11-26 00:00:00 2\n",
      "2017-12-03 00:00:00 1\n",
      "2017-12-10 00:00:00 4\n",
      "2017-12-17 00:00:00 6\n",
      "2017-12-24 00:00:00 0\n",
      "2017-12-31 00:00:00 1\n",
      "2018-01-07 00:00:00 0\n",
      "2018-01-14 00:00:00 3\n",
      "2018-01-21 00:00:00 1\n",
      "2018-01-28 00:00:00 1\n",
      "2018-02-04 00:00:00 0\n",
      "2018-02-11 00:00:00 1\n",
      "2018-02-18 00:00:00 3\n",
      "2018-02-25 00:00:00 2\n",
      "2018-03-04 00:00:00 0\n",
      "2018-03-11 00:00:00 4\n",
      "2018-03-18 00:00:00 0\n",
      "2018-03-25 00:00:00 0\n",
      "2018-04-01 00:00:00 0\n",
      "2018-04-08 00:00:00 0\n",
      "2018-04-15 00:00:00 0\n",
      "2018-04-22 00:00:00 0\n",
      "2018-04-29 00:00:00 0\n",
      "2018-05-06 00:00:00 0\n",
      "2018-05-13 00:00:00 0\n",
      "2018-05-20 00:00:00 0\n",
      "2018-05-27 00:00:00 0\n",
      "2018-06-03 00:00:00 0\n",
      "2018-06-10 00:00:00 1\n",
      "2018-06-17 00:00:00 14\n",
      "2018-06-24 00:00:00 15\n",
      "2018-07-01 00:00:00 7\n",
      "2018-07-08 00:00:00 17\n",
      "2018-07-15 00:00:00 34\n",
      "2018-07-22 00:00:00 31\n",
      "2018-07-29 00:00:00 42\n",
      "2018-08-05 00:00:00 40\n",
      "2018-08-12 00:00:00 46\n",
      "2018-08-19 00:00:00 87\n",
      "2018-08-26 00:00:00 89\n",
      "2018-09-02 00:00:00 144\n",
      "2018-09-09 00:00:00 102\n",
      "2018-09-16 00:00:00 88\n",
      "2018-09-23 00:00:00 100\n",
      "2018-09-30 00:00:00 98\n",
      "2018-10-07 00:00:00 180\n",
      "2018-10-14 00:00:00 75\n",
      "2018-10-21 00:00:00 200\n",
      "2018-10-28 00:00:00 147\n",
      "2018-11-04 00:00:00 162\n",
      "2018-11-11 00:00:00 220\n",
      "2018-11-18 00:00:00 47\n",
      "2018-11-25 00:00:00 62\n",
      "2018-12-02 00:00:00 42\n",
      "2018-12-09 00:00:00 88\n",
      "2018-12-16 00:00:00 47\n",
      "2018-12-23 00:00:00 420\n",
      "2018-12-30 00:00:00 222\n",
      "2019-01-06 00:00:00 171\n",
      "2019-01-13 00:00:00 6\n",
      "2019-01-20 00:00:00 13\n",
      "2019-01-27 00:00:00 4\n",
      "2019-02-03 00:00:00 5\n"
     ]
    }
   ],
   "source": [
    "for idx, row in _[['销售时间','数量']].iterrows():\n",
    "    print(row['销售时间'], row['数量'])"
   ]
  },
  {
   "cell_type": "code",
   "execution_count": null,
   "metadata": {},
   "outputs": [],
   "source": []
  }
 ],
 "metadata": {
  "kernelspec": {
   "display_name": "Python 3",
   "language": "python",
   "name": "python3"
  },
  "language_info": {
   "codemirror_mode": {
    "name": "ipython",
    "version": 3
   },
   "file_extension": ".py",
   "mimetype": "text/x-python",
   "name": "python",
   "nbconvert_exporter": "python",
   "pygments_lexer": "ipython3",
   "version": "3.6.12"
  }
 },
 "nbformat": 4,
 "nbformat_minor": 4
}

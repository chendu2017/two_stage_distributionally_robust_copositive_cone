{
 "cells": [
  {
   "cell_type": "code",
   "execution_count": 1,
   "metadata": {},
   "outputs": [],
   "source": [
    "import pandas as pd\n",
    "import matplotlib.pyplot as plt\n",
    "import matplotlib\n",
    "import seaborn as sns\n",
    "import numpy as np\n",
    "#sns.set_style('darkgrid')\n",
    "sns.set(font_scale=3,font=\"simhei\")\n",
    "\n",
    "#--- 改变字体\n",
    "font = {'weight' : 'bold',\n",
    "        'size'   : 22}\n",
    "matplotlib.rc('font', **font)\n",
    "\n",
    "#--- plt设置\n",
    "SMALL_SIZE = 16\n",
    "MEDIUM_SIZE = 18\n",
    "BIGGER_SIZE = 22\n",
    "\n",
    "plt.rc('font', size=SMALL_SIZE)          # controls default text sizes\n",
    "plt.rc('axes', titlesize=SMALL_SIZE)     # fontsize of the axes title\n",
    "plt.rc('axes', labelsize=MEDIUM_SIZE)    # fontsize of the x and y labels\n",
    "plt.rc('xtick', labelsize=SMALL_SIZE)    # fontsize of the tick labels\n",
    "plt.rc('ytick', labelsize=SMALL_SIZE)    # fontsize of the tick labels\n",
    "plt.rc('legend', fontsize=SMALL_SIZE)    # legend fontsize\n",
    "plt.rc('figure', titlesize=BIGGER_SIZE)  # fontsize of the figure title"
   ]
  },
  {
   "cell_type": "markdown",
   "metadata": {},
   "source": [
    "# load datasets"
   ]
  },
  {
   "cell_type": "code",
   "execution_count": 50,
   "metadata": {},
   "outputs": [
    {
     "name": "stdout",
     "output_type": "stream",
     "text": [
      "<class 'pandas.core.frame.DataFrame'>\n",
      "Int64Index: 40 entries, 0 to 41\n",
      "Data columns (total 13 columns):\n",
      " #   Column   Non-Null Count  Dtype  \n",
      "---  ------   --------------  -----  \n",
      " 0   门店编码     40 non-null     object \n",
      " 1   门店名称     40 non-null     object \n",
      " 2   门店地理位置   40 non-null     object \n",
      " 3   经度       40 non-null     object \n",
      " 4   纬度       40 non-null     object \n",
      " 5   门店等级     40 non-null     object \n",
      " 6   前置仓体系门店  40 non-null     int64  \n",
      " 7   实际上线时间   40 non-null     object \n",
      " 8   时效       40 non-null     object \n",
      " 9   备注       0 non-null      float64\n",
      " 10  对照门店名称   40 non-null     object \n",
      " 11  环线       40 non-null     object \n",
      " 12  商圈       40 non-null     object \n",
      "dtypes: float64(1), int64(1), object(11)\n",
      "memory usage: 4.4+ KB\n",
      "None\n"
     ]
    },
    {
     "data": {
      "text/html": [
       "<div>\n",
       "<style scoped>\n",
       "    .dataframe tbody tr th:only-of-type {\n",
       "        vertical-align: middle;\n",
       "    }\n",
       "\n",
       "    .dataframe tbody tr th {\n",
       "        vertical-align: top;\n",
       "    }\n",
       "\n",
       "    .dataframe thead th {\n",
       "        text-align: right;\n",
       "    }\n",
       "</style>\n",
       "<table border=\"1\" class=\"dataframe\">\n",
       "  <thead>\n",
       "    <tr style=\"text-align: right;\">\n",
       "      <th></th>\n",
       "      <th>门店编码</th>\n",
       "      <th>门店名称</th>\n",
       "      <th>门店地理位置</th>\n",
       "      <th>经度</th>\n",
       "      <th>纬度</th>\n",
       "      <th>门店等级</th>\n",
       "      <th>前置仓体系门店</th>\n",
       "      <th>实际上线时间</th>\n",
       "      <th>时效</th>\n",
       "      <th>备注</th>\n",
       "      <th>对照门店名称</th>\n",
       "      <th>环线</th>\n",
       "      <th>商圈</th>\n",
       "    </tr>\n",
       "  </thead>\n",
       "  <tbody>\n",
       "    <tr>\n",
       "      <th>0</th>\n",
       "      <td>SH60</td>\n",
       "      <td>上海浦东96广场宝大祥NK店</td>\n",
       "      <td>浦东东方路796号B1楼</td>\n",
       "      <td>东经E121°31′27.89″</td>\n",
       "      <td>北纬N31°13′37.79″</td>\n",
       "      <td>A</td>\n",
       "      <td>1</td>\n",
       "      <td>2018-04-20</td>\n",
       "      <td>4小时达</td>\n",
       "      <td>NaN</td>\n",
       "      <td>上海宝大祥青少年儿童购物中心浦东96广场</td>\n",
       "      <td>内环</td>\n",
       "      <td>世纪大道</td>\n",
       "    </tr>\n",
       "    <tr>\n",
       "      <th>1</th>\n",
       "      <td>SH15</td>\n",
       "      <td>上海黄浦南京东路宝大祥NK店</td>\n",
       "      <td>黄浦区南京东路685号宝大祥青少年儿童购物中心1楼</td>\n",
       "      <td>东经E121°28′38.81″</td>\n",
       "      <td>北纬N31°14′7.78″</td>\n",
       "      <td>A+</td>\n",
       "      <td>1</td>\n",
       "      <td>2018-03-20</td>\n",
       "      <td>1小时达</td>\n",
       "      <td>NaN</td>\n",
       "      <td>宝大祥青少年儿童购物(集团)股份有限公司</td>\n",
       "      <td>内环</td>\n",
       "      <td>南京东路</td>\n",
       "    </tr>\n",
       "    <tr>\n",
       "      <th>2</th>\n",
       "      <td>SH55</td>\n",
       "      <td>上海黄浦市百一店NK店</td>\n",
       "      <td>上海市黄浦区南京东路830号4楼阿迪达斯童装</td>\n",
       "      <td>东经E121°28′30.00″</td>\n",
       "      <td>北纬N31°14′11.86″</td>\n",
       "      <td>B+</td>\n",
       "      <td>1</td>\n",
       "      <td>2018-04-13</td>\n",
       "      <td>4小时达</td>\n",
       "      <td>NaN</td>\n",
       "      <td>上海市第一百货商店股份有限公司</td>\n",
       "      <td>内环</td>\n",
       "      <td>南京东路</td>\n",
       "    </tr>\n",
       "    <tr>\n",
       "      <th>3</th>\n",
       "      <td>SH25</td>\n",
       "      <td>上海黄浦置地广场NK店</td>\n",
       "      <td>黄浦区南京东路409-459号8楼</td>\n",
       "      <td>东经E121°28′55.69″</td>\n",
       "      <td>北纬N31°14′12.05″</td>\n",
       "      <td>B</td>\n",
       "      <td>1</td>\n",
       "      <td>2018-04-13</td>\n",
       "      <td>1小时达</td>\n",
       "      <td>NaN</td>\n",
       "      <td>上海置地广场商厦有限公司</td>\n",
       "      <td>内环</td>\n",
       "      <td>南京东路</td>\n",
       "    </tr>\n",
       "    <tr>\n",
       "      <th>4</th>\n",
       "      <td>SH08</td>\n",
       "      <td>上海黄浦新世界NK店</td>\n",
       "      <td>黄浦区南京西路2-88号8楼</td>\n",
       "      <td>东经E118°53′28.71″</td>\n",
       "      <td>北纬N32°03′48.79″</td>\n",
       "      <td>A+</td>\n",
       "      <td>1</td>\n",
       "      <td>2018-04-13</td>\n",
       "      <td>1小时达</td>\n",
       "      <td>NaN</td>\n",
       "      <td>新世界股份有限公司</td>\n",
       "      <td>内环</td>\n",
       "      <td>南京东路</td>\n",
       "    </tr>\n",
       "  </tbody>\n",
       "</table>\n",
       "</div>"
      ],
      "text/plain": [
       "   门店编码            门店名称                     门店地理位置                经度  \\\n",
       "0  SH60  上海浦东96广场宝大祥NK店               浦东东方路796号B1楼  东经E121°31′27.89″   \n",
       "1  SH15  上海黄浦南京东路宝大祥NK店  黄浦区南京东路685号宝大祥青少年儿童购物中心1楼  东经E121°28′38.81″   \n",
       "2  SH55     上海黄浦市百一店NK店     上海市黄浦区南京东路830号4楼阿迪达斯童装  东经E121°28′30.00″   \n",
       "3  SH25     上海黄浦置地广场NK店          黄浦区南京东路409-459号8楼  东经E121°28′55.69″   \n",
       "4  SH08      上海黄浦新世界NK店             黄浦区南京西路2-88号8楼  东经E118°53′28.71″   \n",
       "\n",
       "                纬度 门店等级  前置仓体系门店      实际上线时间    时效  备注                对照门店名称  \\\n",
       "0  北纬N31°13′37.79″    A        1  2018-04-20  4小时达 NaN  上海宝大祥青少年儿童购物中心浦东96广场   \n",
       "1   北纬N31°14′7.78″   A+        1  2018-03-20  1小时达 NaN  宝大祥青少年儿童购物(集团)股份有限公司   \n",
       "2  北纬N31°14′11.86″   B+        1  2018-04-13  4小时达 NaN       上海市第一百货商店股份有限公司   \n",
       "3  北纬N31°14′12.05″    B        1  2018-04-13  1小时达 NaN          上海置地广场商厦有限公司   \n",
       "4  北纬N32°03′48.79″   A+        1  2018-04-13  1小时达 NaN             新世界股份有限公司   \n",
       "\n",
       "   环线    商圈  \n",
       "0  内环  世纪大道  \n",
       "1  内环  南京东路  \n",
       "2  内环  南京东路  \n",
       "3  内环  南京东路  \n",
       "4  内环  南京东路  "
      ]
     },
     "execution_count": 50,
     "metadata": {},
     "output_type": "execute_result"
    }
   ],
   "source": [
    "stores = pd.read_excel('./input/raw_data/stores.xlsx')\n",
    "# 去掉金山\n",
    "stores = stores[~stores['商圈'].isin(['金山宝大祥','奉贤新城'])]\n",
    "print(stores.info())\n",
    "stores.head()"
   ]
  },
  {
   "cell_type": "code",
   "execution_count": 51,
   "metadata": {
    "scrolled": true
   },
   "outputs": [],
   "source": [
    "sales = pd.read_excel('./input/raw_data/sales.xlsx', parse_dates=['销售时间'])"
   ]
  },
  {
   "cell_type": "code",
   "execution_count": 52,
   "metadata": {},
   "outputs": [
    {
     "data": {
      "text/html": [
       "<div>\n",
       "<style scoped>\n",
       "    .dataframe tbody tr th:only-of-type {\n",
       "        vertical-align: middle;\n",
       "    }\n",
       "\n",
       "    .dataframe tbody tr th {\n",
       "        vertical-align: top;\n",
       "    }\n",
       "\n",
       "    .dataframe thead th {\n",
       "        text-align: right;\n",
       "    }\n",
       "</style>\n",
       "<table border=\"1\" class=\"dataframe\">\n",
       "  <thead>\n",
       "    <tr style=\"text-align: right;\">\n",
       "      <th></th>\n",
       "      <th>销售单号</th>\n",
       "      <th>门店编码</th>\n",
       "      <th>销售时间</th>\n",
       "      <th>商品编码</th>\n",
       "      <th>数量</th>\n",
       "      <th>实际售价</th>\n",
       "    </tr>\n",
       "  </thead>\n",
       "  <tbody>\n",
       "    <tr>\n",
       "      <th>0</th>\n",
       "      <td>NaN</td>\n",
       "      <td>TMSH162</td>\n",
       "      <td>2018-09-09</td>\n",
       "      <td>814443N140406Y</td>\n",
       "      <td>1</td>\n",
       "      <td>299.0</td>\n",
       "    </tr>\n",
       "    <tr>\n",
       "      <th>1</th>\n",
       "      <td>NaN</td>\n",
       "      <td>TMSH01</td>\n",
       "      <td>2018-04-30</td>\n",
       "      <td>652966L141405C</td>\n",
       "      <td>2</td>\n",
       "      <td>394.8</td>\n",
       "    </tr>\n",
       "    <tr>\n",
       "      <th>2</th>\n",
       "      <td>NaN</td>\n",
       "      <td>TMSH162</td>\n",
       "      <td>2018-08-30</td>\n",
       "      <td>599729N161204Y</td>\n",
       "      <td>1</td>\n",
       "      <td>219.0</td>\n",
       "    </tr>\n",
       "    <tr>\n",
       "      <th>3</th>\n",
       "      <td>NaN</td>\n",
       "      <td>TMSH162</td>\n",
       "      <td>2018-08-31</td>\n",
       "      <td>859579N140103Y</td>\n",
       "      <td>1</td>\n",
       "      <td>249.0</td>\n",
       "    </tr>\n",
       "    <tr>\n",
       "      <th>4</th>\n",
       "      <td>NaN</td>\n",
       "      <td>TMSH162</td>\n",
       "      <td>2018-08-31</td>\n",
       "      <td>870022N170006Y</td>\n",
       "      <td>1</td>\n",
       "      <td>199.0</td>\n",
       "    </tr>\n",
       "  </tbody>\n",
       "</table>\n",
       "</div>"
      ],
      "text/plain": [
       "   销售单号     门店编码       销售时间            商品编码  数量   实际售价\n",
       "0   NaN  TMSH162 2018-09-09  814443N140406Y   1  299.0\n",
       "1   NaN   TMSH01 2018-04-30  652966L141405C   2  394.8\n",
       "2   NaN  TMSH162 2018-08-30  599729N161204Y   1  219.0\n",
       "3   NaN  TMSH162 2018-08-31  859579N140103Y   1  249.0\n",
       "4   NaN  TMSH162 2018-08-31  870022N170006Y   1  199.0"
      ]
     },
     "execution_count": 52,
     "metadata": {},
     "output_type": "execute_result"
    }
   ],
   "source": [
    "sales.loc[sales['数量']<=0, '数量'] = 0\n",
    "sales.head()"
   ]
  },
  {
   "cell_type": "code",
   "execution_count": 53,
   "metadata": {},
   "outputs": [
    {
     "data": {
      "text/html": [
       "<div>\n",
       "<style scoped>\n",
       "    .dataframe tbody tr th:only-of-type {\n",
       "        vertical-align: middle;\n",
       "    }\n",
       "\n",
       "    .dataframe tbody tr th {\n",
       "        vertical-align: top;\n",
       "    }\n",
       "\n",
       "    .dataframe thead th {\n",
       "        text-align: right;\n",
       "    }\n",
       "</style>\n",
       "<table border=\"1\" class=\"dataframe\">\n",
       "  <thead>\n",
       "    <tr style=\"text-align: right;\">\n",
       "      <th></th>\n",
       "      <th>销售单号</th>\n",
       "      <th>门店编码</th>\n",
       "      <th>销售时间</th>\n",
       "      <th>商品编码</th>\n",
       "      <th>数量</th>\n",
       "      <th>实际售价</th>\n",
       "    </tr>\n",
       "  </thead>\n",
       "  <tbody>\n",
       "    <tr>\n",
       "      <th>0</th>\n",
       "      <td>NaN</td>\n",
       "      <td>TMSH162</td>\n",
       "      <td>2018-09-09</td>\n",
       "      <td>814443</td>\n",
       "      <td>1</td>\n",
       "      <td>299.0</td>\n",
       "    </tr>\n",
       "    <tr>\n",
       "      <th>1</th>\n",
       "      <td>NaN</td>\n",
       "      <td>TMSH01</td>\n",
       "      <td>2018-04-30</td>\n",
       "      <td>652966</td>\n",
       "      <td>2</td>\n",
       "      <td>394.8</td>\n",
       "    </tr>\n",
       "    <tr>\n",
       "      <th>2</th>\n",
       "      <td>NaN</td>\n",
       "      <td>TMSH162</td>\n",
       "      <td>2018-08-30</td>\n",
       "      <td>599729</td>\n",
       "      <td>1</td>\n",
       "      <td>219.0</td>\n",
       "    </tr>\n",
       "    <tr>\n",
       "      <th>3</th>\n",
       "      <td>NaN</td>\n",
       "      <td>TMSH162</td>\n",
       "      <td>2018-08-31</td>\n",
       "      <td>859579</td>\n",
       "      <td>1</td>\n",
       "      <td>249.0</td>\n",
       "    </tr>\n",
       "    <tr>\n",
       "      <th>4</th>\n",
       "      <td>NaN</td>\n",
       "      <td>TMSH162</td>\n",
       "      <td>2018-08-31</td>\n",
       "      <td>870022</td>\n",
       "      <td>1</td>\n",
       "      <td>199.0</td>\n",
       "    </tr>\n",
       "  </tbody>\n",
       "</table>\n",
       "</div>"
      ],
      "text/plain": [
       "   销售单号     门店编码       销售时间    商品编码  数量   实际售价\n",
       "0   NaN  TMSH162 2018-09-09  814443   1  299.0\n",
       "1   NaN   TMSH01 2018-04-30  652966   2  394.8\n",
       "2   NaN  TMSH162 2018-08-30  599729   1  219.0\n",
       "3   NaN  TMSH162 2018-08-31  859579   1  249.0\n",
       "4   NaN  TMSH162 2018-08-31  870022   1  199.0"
      ]
     },
     "execution_count": 53,
     "metadata": {},
     "output_type": "execute_result"
    }
   ],
   "source": [
    "sales['商品编码'] = [s[:6] for s in sales['商品编码']]\n",
    "sales.head()"
   ]
  },
  {
   "cell_type": "code",
   "execution_count": 54,
   "metadata": {},
   "outputs": [
    {
     "data": {
      "text/html": [
       "<div>\n",
       "<style scoped>\n",
       "    .dataframe tbody tr th:only-of-type {\n",
       "        vertical-align: middle;\n",
       "    }\n",
       "\n",
       "    .dataframe tbody tr th {\n",
       "        vertical-align: top;\n",
       "    }\n",
       "\n",
       "    .dataframe thead th {\n",
       "        text-align: right;\n",
       "    }\n",
       "</style>\n",
       "<table border=\"1\" class=\"dataframe\">\n",
       "  <thead>\n",
       "    <tr style=\"text-align: right;\">\n",
       "      <th></th>\n",
       "      <th>销售时间</th>\n",
       "      <th>商品编码</th>\n",
       "      <th>数量</th>\n",
       "      <th>商圈</th>\n",
       "    </tr>\n",
       "  </thead>\n",
       "  <tbody>\n",
       "    <tr>\n",
       "      <th>14</th>\n",
       "      <td>2018-10-13</td>\n",
       "      <td>881926</td>\n",
       "      <td>1</td>\n",
       "      <td>莘庄</td>\n",
       "    </tr>\n",
       "    <tr>\n",
       "      <th>15</th>\n",
       "      <td>2018-10-24</td>\n",
       "      <td>AQ9976</td>\n",
       "      <td>1</td>\n",
       "      <td>莘庄</td>\n",
       "    </tr>\n",
       "    <tr>\n",
       "      <th>16</th>\n",
       "      <td>2018-09-01</td>\n",
       "      <td>AA7216</td>\n",
       "      <td>1</td>\n",
       "      <td>莘庄</td>\n",
       "    </tr>\n",
       "    <tr>\n",
       "      <th>17</th>\n",
       "      <td>2018-09-16</td>\n",
       "      <td>343738</td>\n",
       "      <td>1</td>\n",
       "      <td>莘庄</td>\n",
       "    </tr>\n",
       "    <tr>\n",
       "      <th>18</th>\n",
       "      <td>2018-02-12</td>\n",
       "      <td>917859</td>\n",
       "      <td>1</td>\n",
       "      <td>莘庄</td>\n",
       "    </tr>\n",
       "  </tbody>\n",
       "</table>\n",
       "</div>"
      ],
      "text/plain": [
       "         销售时间    商品编码  数量  商圈\n",
       "14 2018-10-13  881926   1  莘庄\n",
       "15 2018-10-24  AQ9976   1  莘庄\n",
       "16 2018-09-01  AA7216   1  莘庄\n",
       "17 2018-09-16  343738   1  莘庄\n",
       "18 2018-02-12  917859   1  莘庄"
      ]
     },
     "execution_count": 54,
     "metadata": {},
     "output_type": "execute_result"
    }
   ],
   "source": [
    "store_sales = sales[['门店编码','销售时间','商品编码','数量']].merge(stores[['门店编码','商圈']], how='left').dropna()\n",
    "store_sales = store_sales[['销售时间','商品编码','数量','商圈']]\n",
    "store_sales.head()"
   ]
  },
  {
   "cell_type": "code",
   "execution_count": 55,
   "metadata": {},
   "outputs": [
    {
     "name": "stdout",
     "output_type": "stream",
     "text": [
      "销售时间 _unique: 761\n",
      "商品编码 _unique: 1513\n",
      "数量 _unique: 136\n",
      "商圈 _unique: 27\n"
     ]
    }
   ],
   "source": [
    "shangquan = store_sales['商圈'].unique()\n",
    "for col in store_sales.columns:\n",
    "    print(col, '_unique:', len(store_sales[col].unique()))"
   ]
  },
  {
   "cell_type": "code",
   "execution_count": 56,
   "metadata": {},
   "outputs": [
    {
     "data": {
      "text/html": [
       "<div>\n",
       "<style scoped>\n",
       "    .dataframe tbody tr th:only-of-type {\n",
       "        vertical-align: middle;\n",
       "    }\n",
       "\n",
       "    .dataframe tbody tr th {\n",
       "        vertical-align: top;\n",
       "    }\n",
       "\n",
       "    .dataframe thead th {\n",
       "        text-align: right;\n",
       "    }\n",
       "</style>\n",
       "<table border=\"1\" class=\"dataframe\">\n",
       "  <thead>\n",
       "    <tr style=\"text-align: right;\">\n",
       "      <th></th>\n",
       "      <th>商圈</th>\n",
       "      <th>商品编码</th>\n",
       "      <th>销售时间</th>\n",
       "      <th>数量</th>\n",
       "    </tr>\n",
       "  </thead>\n",
       "  <tbody>\n",
       "    <tr>\n",
       "      <th>0</th>\n",
       "      <td>七宝</td>\n",
       "      <td>314193</td>\n",
       "      <td>2017-12-09</td>\n",
       "      <td>1</td>\n",
       "    </tr>\n",
       "    <tr>\n",
       "      <th>1</th>\n",
       "      <td>七宝</td>\n",
       "      <td>314193</td>\n",
       "      <td>2017-12-13</td>\n",
       "      <td>1</td>\n",
       "    </tr>\n",
       "    <tr>\n",
       "      <th>2</th>\n",
       "      <td>七宝</td>\n",
       "      <td>314193</td>\n",
       "      <td>2017-12-20</td>\n",
       "      <td>1</td>\n",
       "    </tr>\n",
       "    <tr>\n",
       "      <th>3</th>\n",
       "      <td>七宝</td>\n",
       "      <td>314193</td>\n",
       "      <td>2017-12-28</td>\n",
       "      <td>1</td>\n",
       "    </tr>\n",
       "    <tr>\n",
       "      <th>4</th>\n",
       "      <td>七宝</td>\n",
       "      <td>314193</td>\n",
       "      <td>2017-12-29</td>\n",
       "      <td>1</td>\n",
       "    </tr>\n",
       "  </tbody>\n",
       "</table>\n",
       "</div>"
      ],
      "text/plain": [
       "   商圈    商品编码       销售时间  数量\n",
       "0  七宝  314193 2017-12-09   1\n",
       "1  七宝  314193 2017-12-13   1\n",
       "2  七宝  314193 2017-12-20   1\n",
       "3  七宝  314193 2017-12-28   1\n",
       "4  七宝  314193 2017-12-29   1"
      ]
     },
     "execution_count": 56,
     "metadata": {},
     "output_type": "execute_result"
    }
   ],
   "source": [
    "mall_sales = store_sales.groupby(['商圈','商品编码','销售时间']).sum().reset_index()\n",
    "mall_sales.head()"
   ]
  },
  {
   "cell_type": "code",
   "execution_count": 57,
   "metadata": {
    "scrolled": true
   },
   "outputs": [],
   "source": [
    "mall_sku_sales = {key: mall_sales.loc[value] for key, value in mall_sales.groupby(['商圈','商品编码',]).groups.items()}\n",
    "mall_sales = {}\n",
    "for key, value in mall_sku_sales.items():\n",
    "    mall_sales[key] = value.set_index('销售时间').resample('w').sum().fillna(0).reset_index()\n"
   ]
  },
  {
   "cell_type": "code",
   "execution_count": 58,
   "metadata": {},
   "outputs": [],
   "source": [
    "mall_sale = []\n",
    "for (mall, skuid), value in mall_sales.items():\n",
    "    value['商圈'] = mall\n",
    "    value['商品编码'] = skuid\n",
    "    mall_sale.append(value)\n",
    "mall_sale = pd.concat(mall_sale, ignore_index=True)"
   ]
  },
  {
   "cell_type": "code",
   "execution_count": 59,
   "metadata": {},
   "outputs": [
    {
     "data": {
      "text/html": [
       "<div>\n",
       "<style scoped>\n",
       "    .dataframe tbody tr th:only-of-type {\n",
       "        vertical-align: middle;\n",
       "    }\n",
       "\n",
       "    .dataframe tbody tr th {\n",
       "        vertical-align: top;\n",
       "    }\n",
       "\n",
       "    .dataframe thead th {\n",
       "        text-align: right;\n",
       "    }\n",
       "</style>\n",
       "<table border=\"1\" class=\"dataframe\">\n",
       "  <thead>\n",
       "    <tr style=\"text-align: right;\">\n",
       "      <th></th>\n",
       "      <th>销售时间</th>\n",
       "      <th>数量</th>\n",
       "      <th>商圈</th>\n",
       "      <th>商品编码</th>\n",
       "    </tr>\n",
       "  </thead>\n",
       "  <tbody>\n",
       "    <tr>\n",
       "      <th>0</th>\n",
       "      <td>2017-12-10</td>\n",
       "      <td>1</td>\n",
       "      <td>七宝</td>\n",
       "      <td>314193</td>\n",
       "    </tr>\n",
       "    <tr>\n",
       "      <th>1</th>\n",
       "      <td>2017-12-17</td>\n",
       "      <td>1</td>\n",
       "      <td>七宝</td>\n",
       "      <td>314193</td>\n",
       "    </tr>\n",
       "    <tr>\n",
       "      <th>2</th>\n",
       "      <td>2017-12-24</td>\n",
       "      <td>1</td>\n",
       "      <td>七宝</td>\n",
       "      <td>314193</td>\n",
       "    </tr>\n",
       "    <tr>\n",
       "      <th>3</th>\n",
       "      <td>2017-12-31</td>\n",
       "      <td>4</td>\n",
       "      <td>七宝</td>\n",
       "      <td>314193</td>\n",
       "    </tr>\n",
       "    <tr>\n",
       "      <th>4</th>\n",
       "      <td>2018-01-07</td>\n",
       "      <td>3</td>\n",
       "      <td>七宝</td>\n",
       "      <td>314193</td>\n",
       "    </tr>\n",
       "  </tbody>\n",
       "</table>\n",
       "</div>"
      ],
      "text/plain": [
       "        销售时间  数量  商圈    商品编码\n",
       "0 2017-12-10   1  七宝  314193\n",
       "1 2017-12-17   1  七宝  314193\n",
       "2 2017-12-24   1  七宝  314193\n",
       "3 2017-12-31   4  七宝  314193\n",
       "4 2018-01-07   3  七宝  314193"
      ]
     },
     "execution_count": 59,
     "metadata": {},
     "output_type": "execute_result"
    }
   ],
   "source": [
    "mall_sale.head()"
   ]
  },
  {
   "cell_type": "code",
   "execution_count": 60,
   "metadata": {},
   "outputs": [
    {
     "data": {
      "text/html": [
       "<div>\n",
       "<style scoped>\n",
       "    .dataframe tbody tr th:only-of-type {\n",
       "        vertical-align: middle;\n",
       "    }\n",
       "\n",
       "    .dataframe tbody tr th {\n",
       "        vertical-align: top;\n",
       "    }\n",
       "\n",
       "    .dataframe thead th {\n",
       "        text-align: right;\n",
       "    }\n",
       "</style>\n",
       "<table border=\"1\" class=\"dataframe\">\n",
       "  <thead>\n",
       "    <tr style=\"text-align: right;\">\n",
       "      <th></th>\n",
       "      <th>商品编码</th>\n",
       "      <th>数量</th>\n",
       "    </tr>\n",
       "  </thead>\n",
       "  <tbody>\n",
       "    <tr>\n",
       "      <th>8</th>\n",
       "      <td>343938</td>\n",
       "      <td>6161</td>\n",
       "    </tr>\n",
       "    <tr>\n",
       "      <th>7</th>\n",
       "      <td>343738</td>\n",
       "      <td>5056</td>\n",
       "    </tr>\n",
       "  </tbody>\n",
       "</table>\n",
       "</div>"
      ],
      "text/plain": [
       "     商品编码    数量\n",
       "8  343938  6161\n",
       "7  343738  5056"
      ]
     },
     "execution_count": 60,
     "metadata": {},
     "output_type": "execute_result"
    }
   ],
   "source": [
    "date_range = pd.date_range(start='2017-01-02', end='2017-4', freq='w')  # 20180611 is Monday\n",
    "top_skus = mall_sale[mall_sale['销售时间'].isin(date_range)].groupby(['商品编码']).sum().sort_values(by='数量', ascending=False).index[:2].tolist()\n",
    "mall_sale[mall_sale['销售时间'].isin(date_range)].groupby(['商品编码']).sum().reset_index().sort_values(by=['数量'], ascending=False).head(2)"
   ]
  },
  {
   "cell_type": "code",
   "execution_count": 61,
   "metadata": {
    "scrolled": false
   },
   "outputs": [
    {
     "name": "stderr",
     "output_type": "stream",
     "text": [
      "D:\\software\\anaconda\\anaconda\\Lib\\site-packages\\ipykernel_launcher.py:2: UserWarning: Boolean Series key will be reindexed to match DataFrame index.\n",
      "  \n"
     ]
    },
    {
     "data": {
      "text/plain": [
       "<AxesSubplot:xlabel='销售时间', ylabel='数量'>"
      ]
     },
     "execution_count": 61,
     "metadata": {},
     "output_type": "execute_result"
    },
    {
     "data": {
      "image/png": "[encoded data removed]",
      "text/plain": [
       "<Figure size 432x288 with 1 Axes>"
      ]
     },
     "metadata": {},
     "output_type": "display_data"
    }
   ],
   "source": [
    "sns.lineplot(x='销售时间',y='数量',hue='商品编码',\n",
    "           data=mall_sale[mall_sale['销售时间'].isin(date_range)][mall_sale['商品编码'].isin(top_skus)].groupby(['商品编码','销售时间']).sum().reset_index())"
   ]
  },
  {
   "cell_type": "code",
   "execution_count": 62,
   "metadata": {},
   "outputs": [
    {
     "name": "stderr",
     "output_type": "stream",
     "text": [
      "D:\\software\\anaconda\\anaconda\\Lib\\site-packages\\ipykernel_launcher.py:3: UserWarning: Boolean Series key will be reindexed to match DataFrame index.\n",
      "  This is separate from the ipykernel package so we can avoid doing imports until\n"
     ]
    },
    {
     "data": {
      "text/plain": [
       "<AxesSubplot:xlabel='销售时间', ylabel='数量'>"
      ]
     },
     "execution_count": 62,
     "metadata": {},
     "output_type": "execute_result"
    },
    {
     "data": {
      "image/png": "[encoded data removed]",
      "text/plain": [
       "<Figure size 432x288 with 1 Axes>"
      ]
     },
     "metadata": {},
     "output_type": "display_data"
    }
   ],
   "source": [
    "date_range_2018 = pd.date_range('2018-1','2018-4', freq='w')\n",
    "sns.lineplot(x='销售时间',y='数量',hue='商品编码',\n",
    "           data=mall_sale[mall_sale['销售时间'].isin(date_range_2018)][mall_sale['商品编码'].isin(top_skus)].groupby(['商品编码','销售时间']).sum().reset_index())"
   ]
  },
  {
   "cell_type": "code",
   "execution_count": 63,
   "metadata": {},
   "outputs": [
    {
     "name": "stderr",
     "output_type": "stream",
     "text": [
      "D:\\software\\anaconda\\anaconda\\Lib\\site-packages\\ipykernel_launcher.py:1: UserWarning: Boolean Series key will be reindexed to match DataFrame index.\n",
      "  \"\"\"Entry point for launching an IPython kernel.\n"
     ]
    },
    {
     "data": {
      "text/html": [
       "<div>\n",
       "<style scoped>\n",
       "    .dataframe tbody tr th:only-of-type {\n",
       "        vertical-align: middle;\n",
       "    }\n",
       "\n",
       "    .dataframe tbody tr th {\n",
       "        vertical-align: top;\n",
       "    }\n",
       "\n",
       "    .dataframe thead th {\n",
       "        text-align: right;\n",
       "    }\n",
       "</style>\n",
       "<table border=\"1\" class=\"dataframe\">\n",
       "  <thead>\n",
       "    <tr style=\"text-align: right;\">\n",
       "      <th></th>\n",
       "      <th>销售时间</th>\n",
       "      <th>数量</th>\n",
       "      <th>商圈</th>\n",
       "      <th>商品编码</th>\n",
       "    </tr>\n",
       "  </thead>\n",
       "  <tbody>\n",
       "    <tr>\n",
       "      <th>98</th>\n",
       "      <td>2017-01-08</td>\n",
       "      <td>20</td>\n",
       "      <td>七宝</td>\n",
       "      <td>343738</td>\n",
       "    </tr>\n",
       "    <tr>\n",
       "      <th>99</th>\n",
       "      <td>2017-01-15</td>\n",
       "      <td>46</td>\n",
       "      <td>七宝</td>\n",
       "      <td>343738</td>\n",
       "    </tr>\n",
       "    <tr>\n",
       "      <th>100</th>\n",
       "      <td>2017-01-22</td>\n",
       "      <td>40</td>\n",
       "      <td>七宝</td>\n",
       "      <td>343738</td>\n",
       "    </tr>\n",
       "    <tr>\n",
       "      <th>101</th>\n",
       "      <td>2017-01-29</td>\n",
       "      <td>35</td>\n",
       "      <td>七宝</td>\n",
       "      <td>343738</td>\n",
       "    </tr>\n",
       "    <tr>\n",
       "      <th>102</th>\n",
       "      <td>2017-02-05</td>\n",
       "      <td>13</td>\n",
       "      <td>七宝</td>\n",
       "      <td>343738</td>\n",
       "    </tr>\n",
       "  </tbody>\n",
       "</table>\n",
       "</div>"
      ],
      "text/plain": [
       "          销售时间  数量  商圈    商品编码\n",
       "98  2017-01-08  20  七宝  343738\n",
       "99  2017-01-15  46  七宝  343738\n",
       "100 2017-01-22  40  七宝  343738\n",
       "101 2017-01-29  35  七宝  343738\n",
       "102 2017-02-05  13  七宝  343738"
      ]
     },
     "execution_count": 63,
     "metadata": {},
     "output_type": "execute_result"
    }
   ],
   "source": [
    "data = mall_sale[mall_sale['销售时间'].isin(np.concatenate([date_range,date_range_2018]))][mall_sale['商品编码'].isin(top_skus)]\n",
    "data.head()"
   ]
  },
  {
   "cell_type": "code",
   "execution_count": 64,
   "metadata": {},
   "outputs": [],
   "source": [
    "data.to_excel('./input/top2_sales.xlsx', index=False)"
   ]
  },
  {
   "cell_type": "code",
   "execution_count": null,
   "metadata": {},
   "outputs": [],
   "source": []
  },
  {
   "cell_type": "code",
   "execution_count": 65,
   "metadata": {},
   "outputs": [],
   "source": [
    "_2017 = data[data['销售时间'].isin(date_range)]\n",
    "_2018 = data[data['销售时间'].isin(date_range_2018)]\n",
    "data_2017 = {key: _2017.loc[value] for key, value in _2017.groupby('商品编码').groups.items()}\n",
    "data_2018 = {key: _2018.loc[value] for key, value in _2018.groupby('商品编码').groups.items()}"
   ]
  },
  {
   "cell_type": "code",
   "execution_count": 66,
   "metadata": {},
   "outputs": [],
   "source": [
    "sku1 = '343938'\n",
    "sku2 = '343738'\n",
    "sku1_2017 = data_2017[sku1].set_index(['销售时间','商圈'])['数量'].unstack().fillna(0)\n",
    "shangquan = sku1_2017.columns\n",
    "sku2_2017 = data_2017[sku2].set_index(['销售时间','商圈'])['数量'].unstack()[shangquan].fillna(0)\n",
    "sku1_2018 = data_2018[sku1].set_index(['销售时间','商圈'])['数量'].unstack()[shangquan].fillna(0)\n",
    "sku2_2018 = data_2018[sku2].set_index(['销售时间','商圈'])['数量'].unstack()[shangquan].fillna(0)\n",
    "\n",
    "\n",
    "sku1_2017.to_excel('./input/sku1_2017_sales.xlsx')\n",
    "sku2_2017.to_excel('./input/sku2_2017_sales.xlsx')\n",
    "sku1_2018.to_excel('./input/sku1_2018_sales.xlsx')\n",
    "sku2_2018.to_excel('./input/sku2_2018_sales.xlsx')"
   ]
  },
  {
   "cell_type": "code",
   "execution_count": null,
   "metadata": {},
   "outputs": [],
   "source": []
  },
  {
   "cell_type": "code",
   "execution_count": 67,
   "metadata": {},
   "outputs": [],
   "source": [
    "cov = pd.DataFrame(np.cov(sku2_2017.values.T))\n",
    "cov.to_excel('./input/sku2_2017_cov.xlsx')\n",
    "\n",
    "n = len(shangquan)\n",
    "sku2_2017_values = sku2_2017.values\n",
    "import scipy\n",
    "pearson_p_value = np.zeros(shape=(n, n))\n",
    "pearson = np.zeros(shape=(n ,n))\n",
    "for i in range(n):\n",
    "    for j in range(n):\n",
    "        ret = scipy.stats.pearsonr(sku2_2017_values.T[i], sku2_2017_values.T[j])\n",
    "        pearson_p_value[i][j] = ret[1]\n",
    "        pearson[i][j] = ret[0]\n",
    "pearson = pd.DataFrame(pearson)\n",
    "pearson_p_value = pd.DataFrame(pearson_p_value)\n",
    "pearson.columns, pearson_p_value.columns = shangquan, shangquan\n",
    "pearson.index, pearson_p_value.index = shangquan, shangquan\n",
    "pearson.to_excel('./input/sku2_2017_pearson.xlsx')\n",
    "pearson_p_value.to_excel('./input/sku2_2017_pearson_p_value.xlsx')\n",
    "\n",
    "\n"
   ]
  },
  {
   "cell_type": "code",
   "execution_count": 68,
   "metadata": {},
   "outputs": [
    {
     "data": {
      "text/plain": [
       "{'刘行', '普陀中环', '紫藤路', '陕西南路'}"
      ]
     },
     "execution_count": 68,
     "metadata": {},
     "output_type": "execute_result"
    }
   ],
   "source": [
    "set(stores['商圈'].unique())-set(sku1_2017.columns)"
   ]
  },
  {
   "cell_type": "code",
   "execution_count": null,
   "metadata": {},
   "outputs": [],
   "source": []
  },
  {
   "cell_type": "code",
   "execution_count": 69,
   "metadata": {},
   "outputs": [
    {
     "data": {
      "text/plain": [
       "Index(['七宝', '世博源', '世纪大道', '五莲路', '五角场', '共康路', '南京东路', '周浦', '嘉松中路', '娄山关路',\n",
       "       '宝山巴黎春天', '宝山白玉兰广场', '徐家汇', '江浦路地铁站', '浦东巴黎春天', '浦东金汇广场', '环球港', '莘庄',\n",
       "       '莲花路', '虹桥天地', '金运路', '陆家嘴', '静安寺'],\n",
       "      dtype='object', name='商圈')"
      ]
     },
     "execution_count": 69,
     "metadata": {},
     "output_type": "execute_result"
    }
   ],
   "source": [
    "shangquan"
   ]
  },
  {
   "cell_type": "code",
   "execution_count": null,
   "metadata": {},
   "outputs": [],
   "source": []
  },
  {
   "cell_type": "code",
   "execution_count": null,
   "metadata": {},
   "outputs": [],
   "source": []
  },
  {
   "cell_type": "code",
   "execution_count": null,
   "metadata": {},
   "outputs": [],
   "source": []
  },
  {
   "cell_type": "markdown",
   "metadata": {},
   "source": [
    "# Graph"
   ]
  },
  {
   "cell_type": "code",
   "execution_count": 111,
   "metadata": {},
   "outputs": [
    {
     "name": "stdout",
     "output_type": "stream",
     "text": [
      "[[1 1 0 0 0 1 0 0 1 1 1 0 1 1 1 0 1 1 1 1 1 0 1]\n",
      " [1 1 1 1 1 1 1 0 0 1 1 1 1 1 1 0 1 1 0 1 1 1 1]\n",
      " [1 1 0 0 0 0 0 0 1 1 0 0 1 0 0 0 1 1 1 1 1 0 0]\n",
      " [1 1 0 0 0 0 0 1 0 1 1 0 1 1 1 0 1 1 1 1 1 0 0]\n",
      " [1 1 1 1 1 1 1 1 0 1 1 1 1 1 1 0 1 1 0 0 1 1 1]\n",
      " [0 1 1 1 0 0 0 1 0 1 0 0 1 1 1 1 1 1 1 0 0 0 0]\n",
      " [0 1 0 1 1 1 0 0 0 1 1 1 1 1 1 0 1 0 0 0 1 0 0]]\n"
     ]
    }
   ],
   "source": [
    "rider_speed = 12  # XX km/hr\n",
    "Aplus_time_limit = 1  # A+ store must be fulfilled within X hr(s)\n",
    "allowed_rider_travel_time = 2  # X hrs allowed for riders on the way\n",
    "\n",
    "\n",
    "distance = pd.read_excel('./input/network_distance.xlsx', index_col=0)\n",
    "shangquan_1hr_arrival = ['南京东路', '静安寺', '世纪大道', '陆家嘴', '五角场']\n",
    "shangquan_1hr_arrival_cols = []\n",
    "for k, col in enumerate(distance.columns):\n",
    "    if col in shangquan_1hr_arrival:\n",
    "        shangquan_1hr_arrival_cols.append(k)\n",
    "\n",
    "travel_time = distance.values/rider_speed\n",
    "graph = np.where(travel_time<=2, 1, 0)\n",
    "for k in shangquan_1hr_arrival_cols:\n",
    "    graph[:, k] = np.where(travel_time[:, k] <= Aplus_time_limit, 1, 0)\n",
    "print(graph)\n",
    "pd.DataFrame(graph, index=distance.index, columns=distance.columns).to_excel('./input/graph.xlsx')"
   ]
  },
  {
   "cell_type": "code",
   "execution_count": 119,
   "metadata": {},
   "outputs": [
    {
     "data": {
      "text/plain": [
       "3.91"
      ]
     },
     "execution_count": 119,
     "metadata": {},
     "output_type": "execute_result"
    }
   ],
   "source": [
    "3.91"
   ]
  },
  {
   "cell_type": "code",
   "execution_count": 120,
   "metadata": {},
   "outputs": [
    {
     "data": {
      "text/plain": [
       "array([5964., 8904., 3094., 7546., 4606., 5348., 5306.])"
      ]
     },
     "execution_count": 120,
     "metadata": {},
     "output_type": "execute_result"
    }
   ],
   "source": [
    "np.asarray([4.26, 6.36, 2.21, 5.39, 3.29, 3.82, 3.79])*200*7"
   ]
  },
  {
   "cell_type": "code",
   "execution_count": null,
   "metadata": {},
   "outputs": [],
   "source": []
  },
  {
   "cell_type": "code",
   "execution_count": null,
   "metadata": {},
   "outputs": [],
   "source": []
  },
  {
   "cell_type": "code",
   "execution_count": null,
   "metadata": {},
   "outputs": [],
   "source": []
  }
 ],
 "metadata": {
  "kernelspec": {
   "display_name": "Python 3",
   "language": "python",
   "name": "python3"
  },
  "language_info": {
   "codemirror_mode": {
    "name": "ipython",
    "version": 3
   },
   "file_extension": ".py",
   "mimetype": "text/x-python",
   "name": "python",
   "nbconvert_exporter": "python",
   "pygments_lexer": "ipython3",
   "version": "3.6.2"
  }
 },
 "nbformat": 4,
 "nbformat_minor": 4
}
